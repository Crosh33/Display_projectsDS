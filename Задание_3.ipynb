{
 "cells": [
  {
   "attachments": {},
   "cell_type": "markdown",
   "metadata": {},
   "source": [
    "Найти самое частое слово в каждой из представленных строк:\n",
    "\n",
    "a = \"Карл у Клары украл кораллы, Клара у Карла украла Кларнет \"\n",
    "\n",
    "b = \"На дворе трава на траве дрова Не руби дрова на траве двора\"\n",
    "\n",
    "c = \"Ехал Гpека чеpез pеку видит Гpека в pеке pак Сунул Гpека pуку в pеку pак за pуку Гpеку цап\"\n",
    "\n",
    "\n",
    "В Dataframe создать колонку, в которую записать самое частое слово."
   ]
  },
  {
   "cell_type": "code",
   "execution_count": null,
   "metadata": {},
   "outputs": [
    {
     "name": "stderr",
     "output_type": "stream",
     "text": [
      "[nltk_data] Downloading package stopwords to /home/jovyan/nltk_data...\n",
      "[nltk_data]   Package stopwords is already up-to-date!\n"
     ]
    }
   ],
   "source": [
    "import pandas as pd\n",
    "from pymystem3 import Mystem\n",
    "import re \n",
    "import warnings\n",
    "import numpy as np\n",
    "import nltk\n",
    "from nltk.corpus import stopwords \n",
    "nltk.download('stopwords') \n",
    "warnings.filterwarnings('ignore')\n",
    "from sklearn.feature_extraction.text import CountVectorizer "
   ]
  },
  {
   "cell_type": "code",
   "execution_count": null,
   "metadata": {},
   "outputs": [],
   "source": [
    "a = \"Карл у Клары украл кораллы, Клара у Карла украла Кларнет \"\n",
    "b = \"На дворе трава на траве дрова Не руби дрова на траве двора\"\n",
    "c = \"Ехал Гpека чеpез pеку видит Гpека в pеке pак Сунул Гpека pуку в pеку pак за pуку Гpеку цап\""
   ]
  },
  {
   "cell_type": "code",
   "execution_count": null,
   "metadata": {},
   "outputs": [
    {
     "name": "stdout",
     "output_type": "stream",
     "text": [
      "[['карл' 'клара' 'кларнет' 'коралл' 'украсть']\n",
      " ['2' '2' '1' '1' '2']]\n",
      "[['двор' 'дрова' 'рубить' 'трава']\n",
      " ['2' '2' '1' '3']]\n",
      "[['видеть' 'грек' 'ехать' 'рак' 'река' 'рука' 'сунуть' 'цап']\n",
      " ['1' '4' '1' '2' '3' '2' '1' '1']]\n"
     ]
    }
   ],
   "source": [
    "def word(text):\n",
    "#лемматизируем текст, удалим не кириллические символы и лишние пробелы.\n",
    "    lemm = Mystem().lemmatize(text)\n",
    "    lemm_text = \"\".join(lemm)\n",
    "    lemm_re = re.sub(r'[^а-яА-ЯёЁ ]', ' ', lemm_text)\n",
    "    lemm_join = ' '.join(lemm_re.split()).split()\n",
    "    \n",
    "#Найдем уникальные слова в тексте, без учета стоп-слов и количественное вхождение в текст каждого уникального слова    \n",
    "    stop_words = set(stopwords.words('russian'))\n",
    "    count_vect = CountVectorizer(stop_words=stop_words) \n",
    "    X = count_vect.fit_transform(lemm)\n",
    "    count_vect.get_feature_names() \n",
    "    matrix_freq = np.asarray(X.sum(axis=0)).ravel()\n",
    "    final_matrix = np.array([np.array(count_vect.get_feature_names()), matrix_freq])\n",
    "    print(final_matrix)\n",
    "\n",
    "#список слов с максимальным числом вхождений в текст\n",
    "    max_count = max(final_matrix[1])\n",
    "    result = []\n",
    "    for i in range(len(final_matrix[1])):\n",
    "        if final_matrix[1,i] == max_count:\n",
    "            result.append(final_matrix[0,i])\n",
    "    return result\n",
    "\n",
    "result_a = word(a)\n",
    "result_b = word(b)\n",
    "result_c = word(c)"
   ]
  },
  {
   "cell_type": "code",
   "execution_count": null,
   "metadata": {},
   "outputs": [
    {
     "data": {
      "text/html": [
       "<div>\n",
       "<style scoped>\n",
       "    .dataframe tbody tr th:only-of-type {\n",
       "        vertical-align: middle;\n",
       "    }\n",
       "\n",
       "    .dataframe tbody tr th {\n",
       "        vertical-align: top;\n",
       "    }\n",
       "\n",
       "    .dataframe thead th {\n",
       "        text-align: right;\n",
       "    }\n",
       "</style>\n",
       "<table border=\"1\" class=\"dataframe\">\n",
       "  <thead>\n",
       "    <tr style=\"text-align: right;\">\n",
       "      <th></th>\n",
       "      <th>Text</th>\n",
       "      <th>Word</th>\n",
       "    </tr>\n",
       "  </thead>\n",
       "  <tbody>\n",
       "    <tr>\n",
       "      <th>0</th>\n",
       "      <td>Карл у Клары украл кораллы, Клара у Карла укра...</td>\n",
       "      <td>[карл, клара, украсть]</td>\n",
       "    </tr>\n",
       "    <tr>\n",
       "      <th>1</th>\n",
       "      <td>На дворе трава на траве дрова Не руби дрова на...</td>\n",
       "      <td>[трава]</td>\n",
       "    </tr>\n",
       "    <tr>\n",
       "      <th>2</th>\n",
       "      <td>Ехал Гpека чеpез pеку видит Гpека в pеке pак С...</td>\n",
       "      <td>[грек]</td>\n",
       "    </tr>\n",
       "  </tbody>\n",
       "</table>\n",
       "</div>"
      ],
      "text/plain": [
       "                                                Text                    Word\n",
       "0  Карл у Клары украл кораллы, Клара у Карла укра...  [карл, клара, украсть]\n",
       "1  На дворе трава на траве дрова Не руби дрова на...                 [трава]\n",
       "2  Ехал Гpека чеpез pеку видит Гpека в pеке pак С...                  [грек]"
      ]
     },
     "execution_count": 4,
     "metadata": {},
     "output_type": "execute_result"
    }
   ],
   "source": [
    "d = {'Text': [a, b, c], 'Word': [result_a, result_b, result_c]}\n",
    "df = pd.DataFrame(data=d)\n",
    "df"
   ]
  },
  {
   "cell_type": "code",
   "execution_count": null,
   "metadata": {},
   "outputs": [],
   "source": []
  },
  {
   "cell_type": "code",
   "execution_count": null,
   "metadata": {},
   "outputs": [],
   "source": []
  }
 ],
 "metadata": {
  "ExecuteTimeLog": [
   {
    "duration": 1417,
    "start_time": "2023-05-17T16:49:48.404Z"
   },
   {
    "duration": 183,
    "start_time": "2023-05-17T16:49:49.823Z"
   },
   {
    "duration": 108,
    "start_time": "2023-05-17T16:49:50.008Z"
   },
   {
    "duration": 130,
    "start_time": "2023-05-17T16:49:50.119Z"
   },
   {
    "duration": 0,
    "start_time": "2023-05-17T16:49:50.252Z"
   },
   {
    "duration": 0,
    "start_time": "2023-05-17T16:49:50.253Z"
   },
   {
    "duration": 0,
    "start_time": "2023-05-17T16:49:50.255Z"
   },
   {
    "duration": 0,
    "start_time": "2023-05-17T16:49:50.256Z"
   },
   {
    "duration": 0,
    "start_time": "2023-05-17T16:49:50.258Z"
   },
   {
    "duration": 0,
    "start_time": "2023-05-17T16:49:50.259Z"
   },
   {
    "duration": 0,
    "start_time": "2023-05-17T16:49:50.260Z"
   },
   {
    "duration": 0,
    "start_time": "2023-05-17T16:49:50.261Z"
   },
   {
    "duration": 0,
    "start_time": "2023-05-17T16:49:50.262Z"
   },
   {
    "duration": 0,
    "start_time": "2023-05-17T16:49:50.263Z"
   },
   {
    "duration": 0,
    "start_time": "2023-05-17T16:49:50.264Z"
   },
   {
    "duration": 0,
    "start_time": "2023-05-17T16:49:50.265Z"
   },
   {
    "duration": 0,
    "start_time": "2023-05-17T16:49:50.266Z"
   },
   {
    "duration": 0,
    "start_time": "2023-05-17T16:49:50.267Z"
   },
   {
    "duration": 0,
    "start_time": "2023-05-17T16:49:50.268Z"
   },
   {
    "duration": 0,
    "start_time": "2023-05-17T16:49:50.269Z"
   },
   {
    "duration": 0,
    "start_time": "2023-05-17T16:49:50.270Z"
   },
   {
    "duration": 0,
    "start_time": "2023-05-17T16:49:50.271Z"
   },
   {
    "duration": 0,
    "start_time": "2023-05-17T16:49:50.272Z"
   },
   {
    "duration": 0,
    "start_time": "2023-05-17T16:49:50.273Z"
   },
   {
    "duration": 0,
    "start_time": "2023-05-17T16:49:50.274Z"
   },
   {
    "duration": 0,
    "start_time": "2023-05-17T16:49:50.275Z"
   },
   {
    "duration": 0,
    "start_time": "2023-05-17T16:49:50.276Z"
   },
   {
    "duration": 0,
    "start_time": "2023-05-17T16:49:50.277Z"
   },
   {
    "duration": 0,
    "start_time": "2023-05-17T16:49:50.318Z"
   },
   {
    "duration": 0,
    "start_time": "2023-05-17T16:49:50.319Z"
   },
   {
    "duration": 0,
    "start_time": "2023-05-17T16:49:50.319Z"
   },
   {
    "duration": 0,
    "start_time": "2023-05-17T16:49:50.320Z"
   },
   {
    "duration": 0,
    "start_time": "2023-05-17T16:49:50.321Z"
   },
   {
    "duration": 12,
    "start_time": "2023-05-17T16:50:50.220Z"
   },
   {
    "duration": 12,
    "start_time": "2023-05-17T16:50:51.008Z"
   },
   {
    "duration": 14,
    "start_time": "2023-05-17T16:50:51.187Z"
   },
   {
    "duration": 22,
    "start_time": "2023-05-17T16:50:51.487Z"
   },
   {
    "duration": 180,
    "start_time": "2023-05-17T16:50:51.705Z"
   },
   {
    "duration": 219,
    "start_time": "2023-05-17T16:50:52.130Z"
   },
   {
    "duration": 8,
    "start_time": "2023-05-17T16:50:52.827Z"
   },
   {
    "duration": 3,
    "start_time": "2023-05-17T16:50:53.229Z"
   },
   {
    "duration": 177,
    "start_time": "2023-05-17T16:50:53.400Z"
   },
   {
    "duration": 3,
    "start_time": "2023-05-17T16:50:54.108Z"
   },
   {
    "duration": 6,
    "start_time": "2023-05-17T16:50:54.282Z"
   },
   {
    "duration": 27,
    "start_time": "2023-05-17T16:50:54.492Z"
   },
   {
    "duration": 170,
    "start_time": "2023-05-17T16:50:55.206Z"
   },
   {
    "duration": 24,
    "start_time": "2023-05-17T16:50:56.446Z"
   },
   {
    "duration": 11,
    "start_time": "2023-05-17T16:50:56.992Z"
   },
   {
    "duration": 20,
    "start_time": "2023-05-17T16:50:57.180Z"
   },
   {
    "duration": 2976,
    "start_time": "2023-05-17T16:50:57.488Z"
   },
   {
    "duration": 4,
    "start_time": "2023-05-17T16:51:00.466Z"
   },
   {
    "duration": 25,
    "start_time": "2023-05-17T16:51:00.471Z"
   },
   {
    "duration": 22,
    "start_time": "2023-05-17T16:51:00.498Z"
   },
   {
    "duration": 42,
    "start_time": "2023-05-17T16:51:03.987Z"
   },
   {
    "duration": 5106,
    "start_time": "2023-05-17T16:51:04.400Z"
   },
   {
    "duration": 10,
    "start_time": "2023-05-17T16:51:09.508Z"
   },
   {
    "duration": 2453,
    "start_time": "2023-05-17T16:51:09.520Z"
   },
   {
    "duration": 10,
    "start_time": "2023-05-17T16:51:11.975Z"
   },
   {
    "duration": 14,
    "start_time": "2023-05-17T16:51:11.986Z"
   },
   {
    "duration": 22,
    "start_time": "2023-05-17T16:51:12.001Z"
   },
   {
    "duration": 2,
    "start_time": "2023-05-17T16:51:12.024Z"
   },
   {
    "duration": 100,
    "start_time": "2023-05-17T16:51:12.028Z"
   },
   {
    "duration": 9752,
    "start_time": "2023-05-17T16:51:12.129Z"
   },
   {
    "duration": 2914,
    "start_time": "2023-05-17T22:55:30.453Z"
   },
   {
    "duration": 198,
    "start_time": "2023-05-17T22:55:33.369Z"
   },
   {
    "duration": 135,
    "start_time": "2023-05-17T22:57:14.640Z"
   },
   {
    "duration": 12,
    "start_time": "2023-05-17T22:57:15.684Z"
   },
   {
    "duration": 13,
    "start_time": "2023-05-17T22:57:16.242Z"
   },
   {
    "duration": 22,
    "start_time": "2023-05-17T22:57:17.250Z"
   },
   {
    "duration": 24,
    "start_time": "2023-05-17T22:58:07.715Z"
   },
   {
    "duration": 345,
    "start_time": "2023-05-17T22:58:08.554Z"
   },
   {
    "duration": 337,
    "start_time": "2023-05-17T22:58:10.429Z"
   },
   {
    "duration": 11,
    "start_time": "2023-05-17T22:58:16.160Z"
   },
   {
    "duration": 4,
    "start_time": "2023-05-17T22:58:30.432Z"
   },
   {
    "duration": 343,
    "start_time": "2023-05-17T22:58:31.228Z"
   },
   {
    "duration": 3,
    "start_time": "2023-05-17T22:59:03.541Z"
   },
   {
    "duration": 8,
    "start_time": "2023-05-17T22:59:04.140Z"
   },
   {
    "duration": 20,
    "start_time": "2023-05-17T22:59:04.731Z"
   },
   {
    "duration": 350,
    "start_time": "2023-05-17T22:59:26.753Z"
   },
   {
    "duration": 22,
    "start_time": "2023-05-17T22:59:36.730Z"
   },
   {
    "duration": 11,
    "start_time": "2023-05-17T23:00:42.823Z"
   },
   {
    "duration": 18,
    "start_time": "2023-05-17T23:00:46.509Z"
   },
   {
    "duration": 10,
    "start_time": "2023-05-17T23:01:04.331Z"
   },
   {
    "duration": 2215,
    "start_time": "2023-05-17T23:01:54.751Z"
   },
   {
    "duration": 111,
    "start_time": "2023-05-17T23:02:35.476Z"
   },
   {
    "duration": 3,
    "start_time": "2023-05-17T23:02:39.491Z"
   },
   {
    "duration": 9,
    "start_time": "2023-05-17T23:02:40.153Z"
   },
   {
    "duration": 20,
    "start_time": "2023-05-17T23:02:41.361Z"
   },
   {
    "duration": 42,
    "start_time": "2023-05-17T23:03:28.330Z"
   },
   {
    "duration": 3173,
    "start_time": "2023-05-17T23:03:58.746Z"
   },
   {
    "duration": 9,
    "start_time": "2023-05-17T23:04:06.455Z"
   },
   {
    "duration": 1875,
    "start_time": "2023-05-17T23:04:07.548Z"
   },
   {
    "duration": 7,
    "start_time": "2023-05-17T23:05:10.246Z"
   },
   {
    "duration": 26,
    "start_time": "2023-05-17T23:05:21.516Z"
   },
   {
    "duration": 9,
    "start_time": "2023-05-17T23:06:17.810Z"
   },
   {
    "duration": 7,
    "start_time": "2023-05-17T23:08:40.929Z"
   },
   {
    "duration": 9,
    "start_time": "2023-05-17T23:08:43.976Z"
   },
   {
    "duration": 3,
    "start_time": "2023-05-17T23:08:45.924Z"
   },
   {
    "duration": 53,
    "start_time": "2023-05-17T23:08:47.413Z"
   },
   {
    "duration": 7,
    "start_time": "2023-05-17T23:09:18.360Z"
   },
   {
    "duration": 3,
    "start_time": "2023-05-17T23:09:24.162Z"
   },
   {
    "duration": 34,
    "start_time": "2023-05-17T23:09:25.532Z"
   },
   {
    "duration": 7986,
    "start_time": "2023-05-17T23:26:05.696Z"
   },
   {
    "duration": 1873,
    "start_time": "2023-05-18T04:27:49.658Z"
   },
   {
    "duration": 919,
    "start_time": "2023-05-18T04:27:51.533Z"
   },
   {
    "duration": 144,
    "start_time": "2023-05-18T04:27:52.455Z"
   },
   {
    "duration": 19,
    "start_time": "2023-05-18T04:27:52.611Z"
   },
   {
    "duration": 26,
    "start_time": "2023-05-18T04:27:52.634Z"
   },
   {
    "duration": 23,
    "start_time": "2023-05-18T04:27:52.662Z"
   },
   {
    "duration": 43,
    "start_time": "2023-05-18T04:27:52.687Z"
   },
   {
    "duration": 240,
    "start_time": "2023-05-18T04:27:52.732Z"
   },
   {
    "duration": 187,
    "start_time": "2023-05-18T04:27:52.974Z"
   },
   {
    "duration": 12,
    "start_time": "2023-05-18T04:27:53.163Z"
   },
   {
    "duration": 27,
    "start_time": "2023-05-18T04:27:53.177Z"
   },
   {
    "duration": 278,
    "start_time": "2023-05-18T04:27:53.205Z"
   },
   {
    "duration": 4,
    "start_time": "2023-05-18T04:27:53.485Z"
   },
   {
    "duration": 27,
    "start_time": "2023-05-18T04:27:53.504Z"
   },
   {
    "duration": 35,
    "start_time": "2023-05-18T04:27:53.534Z"
   },
   {
    "duration": 213,
    "start_time": "2023-05-18T04:27:53.571Z"
   },
   {
    "duration": 40,
    "start_time": "2023-05-18T04:27:53.786Z"
   },
   {
    "duration": 22,
    "start_time": "2023-05-18T04:27:53.832Z"
   },
   {
    "duration": 33,
    "start_time": "2023-05-18T04:27:53.856Z"
   },
   {
    "duration": 27,
    "start_time": "2023-05-18T04:27:53.890Z"
   },
   {
    "duration": 4056,
    "start_time": "2023-05-18T04:27:53.923Z"
   },
   {
    "duration": 3,
    "start_time": "2023-05-18T04:27:57.981Z"
   },
   {
    "duration": 29,
    "start_time": "2023-05-18T04:27:57.985Z"
   },
   {
    "duration": 41,
    "start_time": "2023-05-18T04:27:58.015Z"
   },
   {
    "duration": 62,
    "start_time": "2023-05-18T04:27:58.058Z"
   },
   {
    "duration": 6739,
    "start_time": "2023-05-18T04:27:58.122Z"
   },
   {
    "duration": 7,
    "start_time": "2023-05-18T04:28:04.863Z"
   },
   {
    "duration": 3208,
    "start_time": "2023-05-18T04:28:04.872Z"
   },
   {
    "duration": 28,
    "start_time": "2023-05-18T04:28:08.082Z"
   },
   {
    "duration": 63,
    "start_time": "2023-05-18T04:28:08.112Z"
   },
   {
    "duration": 8,
    "start_time": "2023-05-18T04:28:08.177Z"
   },
   {
    "duration": 21,
    "start_time": "2023-05-18T04:28:08.187Z"
   },
   {
    "duration": 15,
    "start_time": "2023-05-18T04:28:08.219Z"
   },
   {
    "duration": 294,
    "start_time": "2023-05-18T04:28:08.236Z"
   },
   {
    "duration": 11161,
    "start_time": "2023-05-18T04:28:08.534Z"
   },
   {
    "duration": 35,
    "start_time": "2023-05-18T06:16:45.373Z"
   },
   {
    "duration": 240,
    "start_time": "2023-05-18T06:16:45.412Z"
   },
   {
    "duration": 412,
    "start_time": "2023-05-18T06:16:45.654Z"
   },
   {
    "duration": 32,
    "start_time": "2023-05-18T06:16:46.069Z"
   },
   {
    "duration": 18,
    "start_time": "2023-05-18T06:16:46.103Z"
   },
   {
    "duration": 21,
    "start_time": "2023-05-18T06:16:46.123Z"
   },
   {
    "duration": 70,
    "start_time": "2023-05-18T06:16:46.146Z"
   },
   {
    "duration": 228,
    "start_time": "2023-05-18T06:16:46.218Z"
   },
   {
    "duration": 250,
    "start_time": "2023-05-18T06:16:46.448Z"
   },
   {
    "duration": 20,
    "start_time": "2023-05-18T06:16:46.702Z"
   },
   {
    "duration": 23,
    "start_time": "2023-05-18T06:16:46.725Z"
   },
   {
    "duration": 292,
    "start_time": "2023-05-18T06:16:46.751Z"
   },
   {
    "duration": 4,
    "start_time": "2023-05-18T06:16:47.045Z"
   },
   {
    "duration": 39,
    "start_time": "2023-05-18T06:16:47.050Z"
   },
   {
    "duration": 35,
    "start_time": "2023-05-18T06:16:47.091Z"
   },
   {
    "duration": 217,
    "start_time": "2023-05-18T06:16:47.128Z"
   },
   {
    "duration": 58,
    "start_time": "2023-05-18T06:16:47.348Z"
   },
   {
    "duration": 20,
    "start_time": "2023-05-18T06:16:47.408Z"
   },
   {
    "duration": 72,
    "start_time": "2023-05-18T06:16:47.430Z"
   },
   {
    "duration": 15,
    "start_time": "2023-05-18T06:16:47.505Z"
   },
   {
    "duration": 4253,
    "start_time": "2023-05-18T06:16:47.524Z"
   },
   {
    "duration": 3,
    "start_time": "2023-05-18T06:16:51.780Z"
   },
   {
    "duration": 24,
    "start_time": "2023-05-18T06:16:51.785Z"
   },
   {
    "duration": 21,
    "start_time": "2023-05-18T06:16:51.811Z"
   },
   {
    "duration": 78,
    "start_time": "2023-05-18T06:16:51.834Z"
   },
   {
    "duration": 7801,
    "start_time": "2023-05-18T06:16:51.914Z"
   },
   {
    "duration": 8,
    "start_time": "2023-05-18T06:16:59.717Z"
   },
   {
    "duration": 3254,
    "start_time": "2023-05-18T06:16:59.730Z"
   },
   {
    "duration": 26,
    "start_time": "2023-05-18T06:17:02.987Z"
   },
   {
    "duration": 50,
    "start_time": "2023-05-18T06:17:03.015Z"
   },
   {
    "duration": 31,
    "start_time": "2023-05-18T06:17:03.066Z"
   },
   {
    "duration": 14,
    "start_time": "2023-05-18T06:17:03.099Z"
   },
   {
    "duration": 27,
    "start_time": "2023-05-18T06:17:03.114Z"
   },
   {
    "duration": 359,
    "start_time": "2023-05-18T06:17:03.143Z"
   },
   {
    "duration": 10484,
    "start_time": "2023-05-18T06:17:03.505Z"
   },
   {
    "duration": 25649,
    "start_time": "2023-05-18T06:17:13.991Z"
   },
   {
    "duration": 6,
    "start_time": "2023-05-18T06:33:39.169Z"
   },
   {
    "duration": 44,
    "start_time": "2023-05-18T06:34:15.788Z"
   },
   {
    "duration": 259,
    "start_time": "2023-05-18T06:37:34.072Z"
   },
   {
    "duration": 258,
    "start_time": "2023-05-18T06:38:03.625Z"
   },
   {
    "duration": 223,
    "start_time": "2023-05-18T06:38:25.052Z"
   },
   {
    "duration": 22,
    "start_time": "2023-05-18T06:43:01.206Z"
   },
   {
    "duration": 9,
    "start_time": "2023-05-18T06:44:35.325Z"
   },
   {
    "duration": 25,
    "start_time": "2023-05-18T06:45:06.792Z"
   },
   {
    "duration": 15,
    "start_time": "2023-05-18T06:47:25.729Z"
   },
   {
    "duration": 38,
    "start_time": "2023-05-18T06:47:52.532Z"
   },
   {
    "duration": 26,
    "start_time": "2023-05-18T06:49:08.870Z"
   },
   {
    "duration": 243,
    "start_time": "2023-05-18T06:49:40.279Z"
   },
   {
    "duration": 26,
    "start_time": "2023-05-18T06:49:44.143Z"
   },
   {
    "duration": 4,
    "start_time": "2023-05-18T06:50:18.754Z"
   },
   {
    "duration": 218,
    "start_time": "2023-05-18T06:52:27.561Z"
   },
   {
    "duration": 23,
    "start_time": "2023-05-18T06:52:33.962Z"
   },
   {
    "duration": 3,
    "start_time": "2023-05-18T06:52:37.551Z"
   },
   {
    "duration": 16,
    "start_time": "2023-05-18T06:52:43.469Z"
   },
   {
    "duration": 41,
    "start_time": "2023-05-18T06:52:47.018Z"
   },
   {
    "duration": 23,
    "start_time": "2023-05-18T06:53:14.566Z"
   },
   {
    "duration": 3,
    "start_time": "2023-05-18T06:53:34.374Z"
   },
   {
    "duration": 26,
    "start_time": "2023-05-18T06:53:38.786Z"
   },
   {
    "duration": 19,
    "start_time": "2023-05-18T06:53:49.295Z"
   },
   {
    "duration": 4469,
    "start_time": "2023-05-18T06:57:04.977Z"
   },
   {
    "duration": 4,
    "start_time": "2023-05-18T07:07:12.424Z"
   },
   {
    "duration": 7,
    "start_time": "2023-05-18T07:07:13.960Z"
   },
   {
    "duration": 19,
    "start_time": "2023-05-18T07:07:16.370Z"
   },
   {
    "duration": 120,
    "start_time": "2023-05-18T07:07:25.815Z"
   },
   {
    "duration": 16,
    "start_time": "2023-05-18T07:08:08.060Z"
   },
   {
    "duration": 6,
    "start_time": "2023-05-18T07:09:09.390Z"
   },
   {
    "duration": 5,
    "start_time": "2023-05-18T07:09:53.177Z"
   },
   {
    "duration": 123,
    "start_time": "2023-05-18T07:09:53.672Z"
   },
   {
    "duration": 15,
    "start_time": "2023-05-18T07:09:54.855Z"
   },
   {
    "duration": 204,
    "start_time": "2023-05-18T07:10:30.562Z"
   },
   {
    "duration": 22,
    "start_time": "2023-05-18T07:13:24.352Z"
   },
   {
    "duration": 36,
    "start_time": "2023-05-18T07:13:44.060Z"
   },
   {
    "duration": 8,
    "start_time": "2023-05-18T07:21:15.482Z"
   },
   {
    "duration": 3786,
    "start_time": "2023-05-18T07:30:14.731Z"
   },
   {
    "duration": 3823,
    "start_time": "2023-05-18T07:43:11.786Z"
   },
   {
    "duration": 3902,
    "start_time": "2023-05-18T07:43:43.792Z"
   },
   {
    "duration": 3958,
    "start_time": "2023-05-18T07:48:03.156Z"
   },
   {
    "duration": 3729,
    "start_time": "2023-05-18T07:48:18.168Z"
   },
   {
    "duration": 16,
    "start_time": "2023-05-18T07:50:50.360Z"
   },
   {
    "duration": 14,
    "start_time": "2023-05-18T07:51:04.324Z"
   },
   {
    "duration": 4,
    "start_time": "2023-05-18T07:51:52.627Z"
   },
   {
    "duration": 227,
    "start_time": "2023-05-18T07:51:53.067Z"
   },
   {
    "duration": 18,
    "start_time": "2023-05-18T07:51:54.064Z"
   },
   {
    "duration": 4,
    "start_time": "2023-05-18T07:51:54.560Z"
   },
   {
    "duration": 11,
    "start_time": "2023-05-18T07:51:56.268Z"
   },
   {
    "duration": 24,
    "start_time": "2023-05-18T07:51:57.175Z"
   },
   {
    "duration": 8,
    "start_time": "2023-05-18T07:51:58.925Z"
   },
   {
    "duration": 3706,
    "start_time": "2023-05-18T07:51:59.218Z"
   },
   {
    "duration": 4480,
    "start_time": "2023-05-18T07:52:02.930Z"
   },
   {
    "duration": 17,
    "start_time": "2023-05-18T07:52:07.414Z"
   },
   {
    "duration": 4,
    "start_time": "2023-05-18T08:26:52.090Z"
   },
   {
    "duration": 18,
    "start_time": "2023-05-18T08:26:55.056Z"
   },
   {
    "duration": 3,
    "start_time": "2023-05-18T08:26:55.472Z"
   },
   {
    "duration": 15,
    "start_time": "2023-05-18T08:26:56.756Z"
   },
   {
    "duration": 27,
    "start_time": "2023-05-18T08:26:57.527Z"
   },
   {
    "duration": 9,
    "start_time": "2023-05-18T08:26:59.879Z"
   },
   {
    "duration": 3647,
    "start_time": "2023-05-18T08:27:01.227Z"
   },
   {
    "duration": 4529,
    "start_time": "2023-05-18T08:27:04.876Z"
   },
   {
    "duration": 18,
    "start_time": "2023-05-18T08:27:09.412Z"
   },
   {
    "duration": 4,
    "start_time": "2023-05-18T08:28:52.860Z"
   },
   {
    "duration": 260,
    "start_time": "2023-05-18T08:28:52.867Z"
   },
   {
    "duration": 4,
    "start_time": "2023-05-18T08:28:53.130Z"
   },
   {
    "duration": 75,
    "start_time": "2023-05-18T08:28:53.137Z"
   },
   {
    "duration": 72,
    "start_time": "2023-05-18T08:28:53.215Z"
   },
   {
    "duration": 66,
    "start_time": "2023-05-18T08:28:53.289Z"
   },
   {
    "duration": 147,
    "start_time": "2023-05-18T08:28:53.357Z"
   },
   {
    "duration": 15,
    "start_time": "2023-05-18T08:28:53.513Z"
   },
   {
    "duration": 19,
    "start_time": "2023-05-18T08:28:53.530Z"
   },
   {
    "duration": 15,
    "start_time": "2023-05-18T08:28:53.552Z"
   },
   {
    "duration": 39,
    "start_time": "2023-05-18T08:28:53.569Z"
   },
   {
    "duration": 25,
    "start_time": "2023-05-18T08:28:53.611Z"
   },
   {
    "duration": 214,
    "start_time": "2023-05-18T08:28:53.640Z"
   },
   {
    "duration": 210,
    "start_time": "2023-05-18T08:28:53.855Z"
   },
   {
    "duration": 11,
    "start_time": "2023-05-18T08:28:54.067Z"
   },
   {
    "duration": 25,
    "start_time": "2023-05-18T08:28:54.080Z"
   },
   {
    "duration": 219,
    "start_time": "2023-05-18T08:28:54.109Z"
   },
   {
    "duration": 3,
    "start_time": "2023-05-18T08:28:54.330Z"
   },
   {
    "duration": 23,
    "start_time": "2023-05-18T08:28:54.335Z"
   },
   {
    "duration": 32,
    "start_time": "2023-05-18T08:28:54.360Z"
   },
   {
    "duration": 260,
    "start_time": "2023-05-18T08:28:54.395Z"
   },
   {
    "duration": 3,
    "start_time": "2023-05-18T08:28:54.657Z"
   },
   {
    "duration": 220,
    "start_time": "2023-05-18T08:28:54.662Z"
   },
   {
    "duration": 34,
    "start_time": "2023-05-18T08:28:54.884Z"
   },
   {
    "duration": 3,
    "start_time": "2023-05-18T08:28:54.920Z"
   },
   {
    "duration": 15,
    "start_time": "2023-05-18T08:28:54.925Z"
   },
   {
    "duration": 26,
    "start_time": "2023-05-18T08:28:54.942Z"
   },
   {
    "duration": 16,
    "start_time": "2023-05-18T08:28:54.996Z"
   },
   {
    "duration": 3800,
    "start_time": "2023-05-18T08:28:55.015Z"
   },
   {
    "duration": 4476,
    "start_time": "2023-05-18T08:28:58.817Z"
   },
   {
    "duration": 20,
    "start_time": "2023-05-18T08:29:03.295Z"
   },
   {
    "duration": 28,
    "start_time": "2023-05-18T08:29:03.317Z"
   },
   {
    "duration": 26,
    "start_time": "2023-05-18T08:29:03.347Z"
   },
   {
    "duration": 65,
    "start_time": "2023-05-18T08:29:03.375Z"
   },
   {
    "duration": 106,
    "start_time": "2023-05-18T08:29:03.441Z"
   },
   {
    "duration": 7308,
    "start_time": "2023-05-18T08:29:03.549Z"
   },
   {
    "duration": 7,
    "start_time": "2023-05-18T08:29:10.862Z"
   },
   {
    "duration": 3859,
    "start_time": "2023-05-18T08:29:10.871Z"
   },
   {
    "duration": 14,
    "start_time": "2023-05-18T08:29:14.732Z"
   },
   {
    "duration": 66,
    "start_time": "2023-05-18T08:29:14.748Z"
   },
   {
    "duration": 10,
    "start_time": "2023-05-18T08:29:14.816Z"
   },
   {
    "duration": 23,
    "start_time": "2023-05-18T08:29:14.828Z"
   },
   {
    "duration": 27,
    "start_time": "2023-05-18T08:29:14.853Z"
   },
   {
    "duration": 532,
    "start_time": "2023-05-18T08:29:14.882Z"
   },
   {
    "duration": 11924,
    "start_time": "2023-05-18T08:29:15.421Z"
   },
   {
    "duration": 30372,
    "start_time": "2023-05-18T08:29:27.347Z"
   },
   {
    "duration": 9,
    "start_time": "2023-05-18T08:35:17.498Z"
   },
   {
    "duration": 154,
    "start_time": "2023-05-18T08:35:18.060Z"
   },
   {
    "duration": 16927,
    "start_time": "2023-05-18T08:35:19.484Z"
   },
   {
    "duration": 44598,
    "start_time": "2023-05-18T08:35:36.414Z"
   },
   {
    "duration": 3,
    "start_time": "2023-05-18T08:45:33.067Z"
   },
   {
    "duration": 577,
    "start_time": "2023-05-18T08:45:33.423Z"
   },
   {
    "duration": 11862,
    "start_time": "2023-05-18T08:45:34.005Z"
   },
   {
    "duration": 36349,
    "start_time": "2023-05-18T08:45:45.869Z"
   },
   {
    "duration": 8,
    "start_time": "2023-05-18T08:49:32.134Z"
   },
   {
    "duration": 11,
    "start_time": "2023-05-18T08:49:32.554Z"
   },
   {
    "duration": 3,
    "start_time": "2023-05-18T08:49:40.162Z"
   },
   {
    "duration": 11,
    "start_time": "2023-05-18T08:49:40.591Z"
   },
   {
    "duration": 37,
    "start_time": "2023-05-18T08:49:41.119Z"
   },
   {
    "duration": 6,
    "start_time": "2023-05-18T08:51:23.485Z"
   },
   {
    "duration": 6,
    "start_time": "2023-05-18T08:51:23.942Z"
   },
   {
    "duration": 19,
    "start_time": "2023-05-18T08:51:24.642Z"
   },
   {
    "duration": 32,
    "start_time": "2023-05-18T08:52:11.483Z"
   },
   {
    "duration": 4,
    "start_time": "2023-05-18T08:52:23.174Z"
   },
   {
    "duration": 7,
    "start_time": "2023-05-18T08:52:23.486Z"
   },
   {
    "duration": 33,
    "start_time": "2023-05-18T08:52:24.190Z"
   },
   {
    "duration": 273,
    "start_time": "2023-05-18T08:53:09.782Z"
   },
   {
    "duration": 7,
    "start_time": "2023-05-18T08:53:55.822Z"
   },
   {
    "duration": 4,
    "start_time": "2023-05-18T09:01:21.930Z"
   },
   {
    "duration": 8,
    "start_time": "2023-05-18T09:01:23.286Z"
   },
   {
    "duration": 14,
    "start_time": "2023-05-18T09:01:23.877Z"
   },
   {
    "duration": 6,
    "start_time": "2023-05-18T09:01:36.570Z"
   },
   {
    "duration": 384,
    "start_time": "2023-05-18T09:01:36.578Z"
   },
   {
    "duration": 5,
    "start_time": "2023-05-18T09:01:36.964Z"
   },
   {
    "duration": 27,
    "start_time": "2023-05-18T09:01:36.971Z"
   },
   {
    "duration": 80,
    "start_time": "2023-05-18T09:01:37.000Z"
   },
   {
    "duration": 74,
    "start_time": "2023-05-18T09:01:37.082Z"
   },
   {
    "duration": 124,
    "start_time": "2023-05-18T09:01:37.159Z"
   },
   {
    "duration": 21,
    "start_time": "2023-05-18T09:01:37.285Z"
   },
   {
    "duration": 78,
    "start_time": "2023-05-18T09:01:37.308Z"
   },
   {
    "duration": 84,
    "start_time": "2023-05-18T09:01:37.389Z"
   },
   {
    "duration": 96,
    "start_time": "2023-05-18T09:01:37.476Z"
   },
   {
    "duration": 80,
    "start_time": "2023-05-18T09:01:37.574Z"
   },
   {
    "duration": 236,
    "start_time": "2023-05-18T09:01:37.656Z"
   },
   {
    "duration": 232,
    "start_time": "2023-05-18T09:01:37.894Z"
   },
   {
    "duration": 14,
    "start_time": "2023-05-18T09:01:38.127Z"
   },
   {
    "duration": 31,
    "start_time": "2023-05-18T09:01:38.142Z"
   },
   {
    "duration": 449,
    "start_time": "2023-05-18T09:01:38.175Z"
   },
   {
    "duration": 3,
    "start_time": "2023-05-18T09:01:38.628Z"
   },
   {
    "duration": 27,
    "start_time": "2023-05-18T09:01:38.638Z"
   },
   {
    "duration": 46,
    "start_time": "2023-05-18T09:01:38.666Z"
   },
   {
    "duration": 26,
    "start_time": "2023-05-18T09:01:38.724Z"
   },
   {
    "duration": 257,
    "start_time": "2023-05-18T09:01:38.752Z"
   },
   {
    "duration": 4,
    "start_time": "2023-05-18T09:01:39.011Z"
   },
   {
    "duration": 364,
    "start_time": "2023-05-18T09:01:39.017Z"
   },
   {
    "duration": 27,
    "start_time": "2023-05-18T09:01:39.384Z"
   },
   {
    "duration": 52,
    "start_time": "2023-05-18T09:01:39.415Z"
   },
   {
    "duration": 37,
    "start_time": "2023-05-18T09:01:39.469Z"
   },
   {
    "duration": 68,
    "start_time": "2023-05-18T09:01:39.514Z"
   },
   {
    "duration": 10,
    "start_time": "2023-05-18T09:01:39.584Z"
   },
   {
    "duration": 4668,
    "start_time": "2023-05-18T09:01:39.597Z"
   },
   {
    "duration": 5708,
    "start_time": "2023-05-18T09:01:44.270Z"
   },
   {
    "duration": 17,
    "start_time": "2023-05-18T09:01:49.981Z"
   },
   {
    "duration": 58,
    "start_time": "2023-05-18T09:01:50.000Z"
   },
   {
    "duration": 17,
    "start_time": "2023-05-18T09:01:50.067Z"
   },
   {
    "duration": 54,
    "start_time": "2023-05-18T09:01:50.111Z"
   },
   {
    "duration": 0,
    "start_time": "2023-05-18T09:01:50.167Z"
   },
   {
    "duration": 0,
    "start_time": "2023-05-18T09:01:50.169Z"
   },
   {
    "duration": 3,
    "start_time": "2023-05-18T09:03:05.788Z"
   },
   {
    "duration": 7,
    "start_time": "2023-05-18T09:03:07.273Z"
   },
   {
    "duration": 13,
    "start_time": "2023-05-18T09:03:07.970Z"
   },
   {
    "duration": 6,
    "start_time": "2023-05-18T09:03:47.475Z"
   },
   {
    "duration": 317,
    "start_time": "2023-05-18T09:03:47.483Z"
   },
   {
    "duration": 6,
    "start_time": "2023-05-18T09:03:47.811Z"
   },
   {
    "duration": 42,
    "start_time": "2023-05-18T09:03:47.823Z"
   },
   {
    "duration": 17,
    "start_time": "2023-05-18T09:03:47.868Z"
   },
   {
    "duration": 44,
    "start_time": "2023-05-18T09:03:47.886Z"
   },
   {
    "duration": 154,
    "start_time": "2023-05-18T09:03:47.931Z"
   },
   {
    "duration": 20,
    "start_time": "2023-05-18T09:03:48.087Z"
   },
   {
    "duration": 54,
    "start_time": "2023-05-18T09:03:48.111Z"
   },
   {
    "duration": 15,
    "start_time": "2023-05-18T09:03:48.168Z"
   },
   {
    "duration": 32,
    "start_time": "2023-05-18T09:03:48.187Z"
   },
   {
    "duration": 72,
    "start_time": "2023-05-18T09:03:48.222Z"
   },
   {
    "duration": 289,
    "start_time": "2023-05-18T09:03:48.296Z"
   },
   {
    "duration": 304,
    "start_time": "2023-05-18T09:03:48.601Z"
   },
   {
    "duration": 16,
    "start_time": "2023-05-18T09:03:48.907Z"
   },
   {
    "duration": 65,
    "start_time": "2023-05-18T09:03:48.927Z"
   },
   {
    "duration": 299,
    "start_time": "2023-05-18T09:03:48.994Z"
   },
   {
    "duration": 4,
    "start_time": "2023-05-18T09:03:49.297Z"
   },
   {
    "duration": 80,
    "start_time": "2023-05-18T09:03:49.302Z"
   },
   {
    "duration": 98,
    "start_time": "2023-05-18T09:03:49.384Z"
   },
   {
    "duration": 30,
    "start_time": "2023-05-18T09:03:49.484Z"
   },
   {
    "duration": 325,
    "start_time": "2023-05-18T09:03:49.519Z"
   },
   {
    "duration": 15,
    "start_time": "2023-05-18T09:03:49.851Z"
   },
   {
    "duration": 316,
    "start_time": "2023-05-18T09:03:49.868Z"
   },
   {
    "duration": 24,
    "start_time": "2023-05-18T09:03:50.186Z"
   },
   {
    "duration": 68,
    "start_time": "2023-05-18T09:03:50.212Z"
   },
   {
    "duration": 26,
    "start_time": "2023-05-18T09:03:50.283Z"
   },
   {
    "duration": 82,
    "start_time": "2023-05-18T09:03:50.312Z"
   },
   {
    "duration": 31,
    "start_time": "2023-05-18T09:03:50.401Z"
   },
   {
    "duration": 4416,
    "start_time": "2023-05-18T09:03:50.434Z"
   },
   {
    "duration": 5392,
    "start_time": "2023-05-18T09:03:54.852Z"
   },
   {
    "duration": 15,
    "start_time": "2023-05-18T09:04:00.250Z"
   },
   {
    "duration": 85,
    "start_time": "2023-05-18T09:04:00.266Z"
   },
   {
    "duration": 50,
    "start_time": "2023-05-18T09:04:00.353Z"
   },
   {
    "duration": 77,
    "start_time": "2023-05-18T09:04:00.407Z"
   },
   {
    "duration": 90,
    "start_time": "2023-05-18T09:04:17.381Z"
   },
   {
    "duration": 4190,
    "start_time": "2023-05-18T09:04:18.487Z"
   },
   {
    "duration": 44,
    "start_time": "2023-05-18T09:04:22.680Z"
   },
   {
    "duration": 0,
    "start_time": "2023-05-18T09:04:22.726Z"
   },
   {
    "duration": 8,
    "start_time": "2023-05-18T09:06:06.780Z"
   },
   {
    "duration": 2943,
    "start_time": "2023-05-18T09:06:07.965Z"
   },
   {
    "duration": 27,
    "start_time": "2023-05-18T09:06:10.910Z"
   },
   {
    "duration": 5,
    "start_time": "2023-05-18T09:07:07.689Z"
   },
   {
    "duration": 2908,
    "start_time": "2023-05-18T09:07:08.009Z"
   },
   {
    "duration": 16,
    "start_time": "2023-05-18T09:07:10.923Z"
   },
   {
    "duration": 43,
    "start_time": "2023-05-18T09:07:11.738Z"
   },
   {
    "duration": 30,
    "start_time": "2023-05-18T09:07:17.122Z"
   },
   {
    "duration": 12,
    "start_time": "2023-05-18T09:07:17.878Z"
   },
   {
    "duration": 9,
    "start_time": "2023-05-18T09:07:19.061Z"
   },
   {
    "duration": 269,
    "start_time": "2023-05-18T09:07:19.468Z"
   },
   {
    "duration": 13728,
    "start_time": "2023-05-18T09:07:19.893Z"
   },
   {
    "duration": 62,
    "start_time": "2023-05-18T09:11:57.769Z"
   },
   {
    "duration": 3509,
    "start_time": "2023-05-18T09:11:58.324Z"
   },
   {
    "duration": 9,
    "start_time": "2023-05-18T09:12:01.839Z"
   },
   {
    "duration": 2794,
    "start_time": "2023-05-18T09:12:01.850Z"
   },
   {
    "duration": 16,
    "start_time": "2023-05-18T09:12:04.647Z"
   },
   {
    "duration": 64,
    "start_time": "2023-05-18T09:12:04.665Z"
   },
   {
    "duration": 121,
    "start_time": "2023-05-18T09:12:04.733Z"
   },
   {
    "duration": 14,
    "start_time": "2023-05-18T09:12:04.856Z"
   },
   {
    "duration": 4,
    "start_time": "2023-05-18T09:12:04.872Z"
   },
   {
    "duration": 362,
    "start_time": "2023-05-18T09:12:04.878Z"
   },
   {
    "duration": 12339,
    "start_time": "2023-05-18T09:12:05.302Z"
   },
   {
    "duration": 32924,
    "start_time": "2023-05-18T09:12:17.643Z"
   },
   {
    "duration": 73,
    "start_time": "2023-05-18T09:14:54.889Z"
   },
   {
    "duration": 3590,
    "start_time": "2023-05-18T09:14:55.521Z"
   },
   {
    "duration": 10,
    "start_time": "2023-05-18T09:14:59.115Z"
   },
   {
    "duration": 2785,
    "start_time": "2023-05-18T09:14:59.135Z"
   },
   {
    "duration": 23,
    "start_time": "2023-05-18T09:15:01.923Z"
   },
   {
    "duration": 64,
    "start_time": "2023-05-18T09:15:01.949Z"
   },
   {
    "duration": 51,
    "start_time": "2023-05-18T09:15:02.018Z"
   },
   {
    "duration": 100,
    "start_time": "2023-05-18T09:15:02.072Z"
   },
   {
    "duration": 67,
    "start_time": "2023-05-18T09:15:02.174Z"
   },
   {
    "duration": 410,
    "start_time": "2023-05-18T09:15:02.243Z"
   },
   {
    "duration": 13915,
    "start_time": "2023-05-18T09:15:02.698Z"
   },
   {
    "duration": 35821,
    "start_time": "2023-05-18T09:15:16.615Z"
   },
   {
    "duration": 11,
    "start_time": "2023-05-18T09:26:43.323Z"
   },
   {
    "duration": 21,
    "start_time": "2023-05-18T09:26:55.436Z"
   },
   {
    "duration": 1476,
    "start_time": "2023-05-18T09:33:19.857Z"
   },
   {
    "duration": 1620,
    "start_time": "2023-05-18T09:33:38.123Z"
   },
   {
    "duration": 6,
    "start_time": "2023-05-18T09:34:24.025Z"
   },
   {
    "duration": 46,
    "start_time": "2023-05-18T09:34:37.089Z"
   },
   {
    "duration": 18,
    "start_time": "2023-05-18T09:37:38.095Z"
   },
   {
    "duration": 6,
    "start_time": "2023-05-18T09:37:56.079Z"
   },
   {
    "duration": 11,
    "start_time": "2023-05-18T09:38:12.466Z"
   },
   {
    "duration": 9,
    "start_time": "2023-05-18T09:38:25.642Z"
   },
   {
    "duration": 1733,
    "start_time": "2023-05-18T09:41:08.682Z"
   },
   {
    "duration": 11,
    "start_time": "2023-05-18T09:48:30.785Z"
   },
   {
    "duration": 12,
    "start_time": "2023-05-18T09:53:51.583Z"
   },
   {
    "duration": 2608,
    "start_time": "2023-05-18T09:54:41.316Z"
   },
   {
    "duration": 16,
    "start_time": "2023-05-18T09:55:31.884Z"
   },
   {
    "duration": 3,
    "start_time": "2023-05-18T09:56:13.313Z"
   },
   {
    "duration": 5,
    "start_time": "2023-05-18T09:56:20.987Z"
   },
   {
    "duration": 2315,
    "start_time": "2023-05-18T09:57:22.616Z"
   },
   {
    "duration": 2510,
    "start_time": "2023-05-18T09:57:57.230Z"
   },
   {
    "duration": 1762,
    "start_time": "2023-05-18T09:58:46.166Z"
   },
   {
    "duration": 277,
    "start_time": "2023-05-18T10:00:45.247Z"
   },
   {
    "duration": 1948,
    "start_time": "2023-05-18T10:03:21.422Z"
   },
   {
    "duration": 1548,
    "start_time": "2023-05-18T10:07:13.616Z"
   },
   {
    "duration": 14,
    "start_time": "2023-05-18T10:10:06.918Z"
   },
   {
    "duration": 309,
    "start_time": "2023-05-18T10:11:15.914Z"
   },
   {
    "duration": 15,
    "start_time": "2023-05-18T10:12:40.380Z"
   },
   {
    "duration": 6,
    "start_time": "2023-05-18T10:14:06.634Z"
   },
   {
    "duration": 12,
    "start_time": "2023-05-18T10:14:13.823Z"
   },
   {
    "duration": 11,
    "start_time": "2023-05-18T10:14:28.176Z"
   },
   {
    "duration": 15,
    "start_time": "2023-05-18T10:15:25.552Z"
   },
   {
    "duration": 31,
    "start_time": "2023-05-18T10:16:45.084Z"
   },
   {
    "duration": 9,
    "start_time": "2023-05-18T10:17:08.765Z"
   },
   {
    "duration": 9,
    "start_time": "2023-05-18T10:17:43.156Z"
   },
   {
    "duration": 11,
    "start_time": "2023-05-18T10:17:50.923Z"
   },
   {
    "duration": 8,
    "start_time": "2023-05-18T10:17:56.832Z"
   },
   {
    "duration": 4,
    "start_time": "2023-05-18T10:18:01.168Z"
   },
   {
    "duration": 260,
    "start_time": "2023-05-18T10:19:21.493Z"
   },
   {
    "duration": 269,
    "start_time": "2023-05-18T10:19:28.460Z"
   },
   {
    "duration": 259,
    "start_time": "2023-05-18T10:19:41.460Z"
   },
   {
    "duration": 107,
    "start_time": "2023-05-18T10:20:34.920Z"
   },
   {
    "duration": 287,
    "start_time": "2023-05-18T10:20:41.335Z"
   },
   {
    "duration": 252,
    "start_time": "2023-05-18T10:20:49.194Z"
   },
   {
    "duration": 238,
    "start_time": "2023-05-18T10:20:58.921Z"
   },
   {
    "duration": 34,
    "start_time": "2023-05-18T10:22:12.806Z"
   },
   {
    "duration": 61,
    "start_time": "2023-05-18T10:25:52.794Z"
   },
   {
    "duration": 45,
    "start_time": "2023-05-18T10:28:39.931Z"
   },
   {
    "duration": 55,
    "start_time": "2023-05-18T10:29:16.269Z"
   },
   {
    "duration": 9,
    "start_time": "2023-05-18T10:31:25.073Z"
   },
   {
    "duration": 2795,
    "start_time": "2023-05-18T10:31:38.673Z"
   },
   {
    "duration": 73,
    "start_time": "2023-05-18T10:32:58.357Z"
   },
   {
    "duration": 3572,
    "start_time": "2023-05-18T10:32:59.187Z"
   },
   {
    "duration": 16,
    "start_time": "2023-05-18T10:33:02.761Z"
   },
   {
    "duration": 0,
    "start_time": "2023-05-18T10:33:02.780Z"
   },
   {
    "duration": 0,
    "start_time": "2023-05-18T10:33:02.781Z"
   },
   {
    "duration": 0,
    "start_time": "2023-05-18T10:33:02.782Z"
   },
   {
    "duration": 0,
    "start_time": "2023-05-18T10:33:02.803Z"
   },
   {
    "duration": 6,
    "start_time": "2023-05-18T10:33:20.227Z"
   },
   {
    "duration": 1622,
    "start_time": "2023-05-18T10:33:21.261Z"
   },
   {
    "duration": 0,
    "start_time": "2023-05-18T10:33:22.886Z"
   },
   {
    "duration": 0,
    "start_time": "2023-05-18T10:33:22.887Z"
   },
   {
    "duration": 0,
    "start_time": "2023-05-18T10:33:22.889Z"
   },
   {
    "duration": 12,
    "start_time": "2023-05-18T10:34:09.625Z"
   },
   {
    "duration": 3,
    "start_time": "2023-05-18T10:34:17.769Z"
   },
   {
    "duration": 6,
    "start_time": "2023-05-18T10:34:18.329Z"
   },
   {
    "duration": 19,
    "start_time": "2023-05-18T10:34:18.515Z"
   },
   {
    "duration": 65,
    "start_time": "2023-05-18T10:34:19.327Z"
   },
   {
    "duration": 3429,
    "start_time": "2023-05-18T10:34:20.727Z"
   },
   {
    "duration": 1703,
    "start_time": "2023-05-18T10:34:24.159Z"
   },
   {
    "duration": 0,
    "start_time": "2023-05-18T10:34:25.865Z"
   },
   {
    "duration": 0,
    "start_time": "2023-05-18T10:34:25.866Z"
   },
   {
    "duration": 0,
    "start_time": "2023-05-18T10:34:25.867Z"
   },
   {
    "duration": 0,
    "start_time": "2023-05-18T10:34:25.869Z"
   },
   {
    "duration": 6,
    "start_time": "2023-05-18T10:35:18.192Z"
   },
   {
    "duration": 264,
    "start_time": "2023-05-18T10:35:18.201Z"
   },
   {
    "duration": 4,
    "start_time": "2023-05-18T10:35:18.467Z"
   },
   {
    "duration": 25,
    "start_time": "2023-05-18T10:35:18.473Z"
   },
   {
    "duration": 53,
    "start_time": "2023-05-18T10:35:18.501Z"
   },
   {
    "duration": 10,
    "start_time": "2023-05-18T10:35:18.557Z"
   },
   {
    "duration": 141,
    "start_time": "2023-05-18T10:35:18.569Z"
   },
   {
    "duration": 18,
    "start_time": "2023-05-18T10:35:18.721Z"
   },
   {
    "duration": 16,
    "start_time": "2023-05-18T10:35:18.741Z"
   },
   {
    "duration": 16,
    "start_time": "2023-05-18T10:35:18.760Z"
   },
   {
    "duration": 38,
    "start_time": "2023-05-18T10:35:18.778Z"
   },
   {
    "duration": 28,
    "start_time": "2023-05-18T10:35:18.817Z"
   },
   {
    "duration": 243,
    "start_time": "2023-05-18T10:35:18.848Z"
   },
   {
    "duration": 281,
    "start_time": "2023-05-18T10:35:19.099Z"
   },
   {
    "duration": 28,
    "start_time": "2023-05-18T10:35:19.383Z"
   },
   {
    "duration": 18,
    "start_time": "2023-05-18T10:35:19.420Z"
   },
   {
    "duration": 243,
    "start_time": "2023-05-18T10:35:19.441Z"
   },
   {
    "duration": 3,
    "start_time": "2023-05-18T10:35:19.686Z"
   },
   {
    "duration": 17,
    "start_time": "2023-05-18T10:35:19.690Z"
   },
   {
    "duration": 45,
    "start_time": "2023-05-18T10:35:19.709Z"
   },
   {
    "duration": 3,
    "start_time": "2023-05-18T10:35:19.756Z"
   },
   {
    "duration": 238,
    "start_time": "2023-05-18T10:35:19.761Z"
   },
   {
    "duration": 21,
    "start_time": "2023-05-18T10:35:20.007Z"
   },
   {
    "duration": 240,
    "start_time": "2023-05-18T10:35:20.032Z"
   },
   {
    "duration": 35,
    "start_time": "2023-05-18T10:35:20.274Z"
   },
   {
    "duration": 7,
    "start_time": "2023-05-18T10:35:20.311Z"
   },
   {
    "duration": 17,
    "start_time": "2023-05-18T10:35:20.329Z"
   },
   {
    "duration": 28,
    "start_time": "2023-05-18T10:35:20.350Z"
   },
   {
    "duration": 31,
    "start_time": "2023-05-18T10:35:20.380Z"
   },
   {
    "duration": 3874,
    "start_time": "2023-05-18T10:35:20.415Z"
   },
   {
    "duration": 4939,
    "start_time": "2023-05-18T10:35:24.291Z"
   },
   {
    "duration": 16,
    "start_time": "2023-05-18T10:35:29.235Z"
   },
   {
    "duration": 6,
    "start_time": "2023-05-18T10:35:29.253Z"
   },
   {
    "duration": 19,
    "start_time": "2023-05-18T10:35:29.262Z"
   },
   {
    "duration": 27,
    "start_time": "2023-05-18T10:35:29.283Z"
   },
   {
    "duration": 93,
    "start_time": "2023-05-18T10:35:29.312Z"
   },
   {
    "duration": 4045,
    "start_time": "2023-05-18T10:35:29.407Z"
   },
   {
    "duration": 1582,
    "start_time": "2023-05-18T10:35:33.454Z"
   },
   {
    "duration": 0,
    "start_time": "2023-05-18T10:35:35.038Z"
   },
   {
    "duration": 0,
    "start_time": "2023-05-18T10:35:35.039Z"
   },
   {
    "duration": 1572,
    "start_time": "2023-05-18T10:36:39.348Z"
   },
   {
    "duration": 61,
    "start_time": "2023-05-18T10:38:06.287Z"
   },
   {
    "duration": 51,
    "start_time": "2023-05-18T10:38:34.629Z"
   },
   {
    "duration": 3828,
    "start_time": "2023-05-18T10:38:36.092Z"
   },
   {
    "duration": 169,
    "start_time": "2023-05-18T10:38:39.922Z"
   },
   {
    "duration": 17,
    "start_time": "2023-05-18T10:38:40.094Z"
   },
   {
    "duration": 9,
    "start_time": "2023-05-18T10:38:41.122Z"
   },
   {
    "duration": 2588,
    "start_time": "2023-05-18T10:38:41.870Z"
   },
   {
    "duration": 13,
    "start_time": "2023-05-18T10:38:44.460Z"
   },
   {
    "duration": 32,
    "start_time": "2023-05-18T10:39:22.850Z"
   },
   {
    "duration": 19,
    "start_time": "2023-05-18T10:39:23.500Z"
   },
   {
    "duration": 14,
    "start_time": "2023-05-18T10:39:24.726Z"
   },
   {
    "duration": 3,
    "start_time": "2023-05-18T10:39:26.170Z"
   },
   {
    "duration": 186,
    "start_time": "2023-05-18T10:39:26.525Z"
   },
   {
    "duration": 13377,
    "start_time": "2023-05-18T10:39:26.913Z"
   },
   {
    "duration": 57,
    "start_time": "2023-05-18T10:43:48.885Z"
   },
   {
    "duration": 3384,
    "start_time": "2023-05-18T10:43:48.944Z"
   },
   {
    "duration": 185,
    "start_time": "2023-05-18T10:43:52.331Z"
   },
   {
    "duration": 9,
    "start_time": "2023-05-18T10:43:52.519Z"
   },
   {
    "duration": 15,
    "start_time": "2023-05-18T10:43:52.533Z"
   },
   {
    "duration": 2462,
    "start_time": "2023-05-18T10:43:52.549Z"
   },
   {
    "duration": 17,
    "start_time": "2023-05-18T10:43:55.018Z"
   },
   {
    "duration": 31,
    "start_time": "2023-05-18T10:43:55.036Z"
   },
   {
    "duration": 22,
    "start_time": "2023-05-18T10:43:55.069Z"
   },
   {
    "duration": 46,
    "start_time": "2023-05-18T10:43:55.092Z"
   },
   {
    "duration": 4,
    "start_time": "2023-05-18T10:43:55.140Z"
   },
   {
    "duration": 66,
    "start_time": "2023-05-18T10:43:55.146Z"
   },
   {
    "duration": 11759,
    "start_time": "2023-05-18T10:43:55.214Z"
   },
   {
    "duration": 29602,
    "start_time": "2023-05-18T10:44:06.976Z"
   },
   {
    "duration": 105,
    "start_time": "2023-05-18T10:51:58.467Z"
   },
   {
    "duration": 129,
    "start_time": "2023-05-18T10:52:14.496Z"
   },
   {
    "duration": 153,
    "start_time": "2023-05-18T10:52:48.594Z"
   },
   {
    "duration": 117,
    "start_time": "2023-05-18T10:52:58.197Z"
   },
   {
    "duration": 11,
    "start_time": "2023-05-18T10:55:44.161Z"
   },
   {
    "duration": 12,
    "start_time": "2023-05-18T10:56:18.119Z"
   },
   {
    "duration": 487,
    "start_time": "2023-05-18T10:56:47.926Z"
   },
   {
    "duration": 21,
    "start_time": "2023-05-18T10:57:04.506Z"
   },
   {
    "duration": 85,
    "start_time": "2023-05-18T10:57:50.601Z"
   },
   {
    "duration": 7,
    "start_time": "2023-05-18T10:58:09.418Z"
   },
   {
    "duration": 222,
    "start_time": "2023-05-18T10:58:09.427Z"
   },
   {
    "duration": 4,
    "start_time": "2023-05-18T10:58:09.651Z"
   },
   {
    "duration": 9,
    "start_time": "2023-05-18T10:58:09.658Z"
   },
   {
    "duration": 17,
    "start_time": "2023-05-18T10:58:09.669Z"
   },
   {
    "duration": 7,
    "start_time": "2023-05-18T10:58:09.688Z"
   },
   {
    "duration": 111,
    "start_time": "2023-05-18T10:58:09.702Z"
   },
   {
    "duration": 16,
    "start_time": "2023-05-18T10:58:09.815Z"
   },
   {
    "duration": 17,
    "start_time": "2023-05-18T10:58:09.833Z"
   },
   {
    "duration": 17,
    "start_time": "2023-05-18T10:58:09.853Z"
   },
   {
    "duration": 55,
    "start_time": "2023-05-18T10:58:09.871Z"
   },
   {
    "duration": 49,
    "start_time": "2023-05-18T10:58:09.929Z"
   },
   {
    "duration": 247,
    "start_time": "2023-05-18T10:58:09.981Z"
   },
   {
    "duration": 211,
    "start_time": "2023-05-18T10:58:10.230Z"
   },
   {
    "duration": 11,
    "start_time": "2023-05-18T10:58:10.443Z"
   },
   {
    "duration": 8,
    "start_time": "2023-05-18T10:58:10.456Z"
   },
   {
    "duration": 247,
    "start_time": "2023-05-18T10:58:10.466Z"
   },
   {
    "duration": 4,
    "start_time": "2023-05-18T10:58:10.715Z"
   },
   {
    "duration": 11,
    "start_time": "2023-05-18T10:58:10.721Z"
   },
   {
    "duration": 22,
    "start_time": "2023-05-18T10:58:10.734Z"
   },
   {
    "duration": 3,
    "start_time": "2023-05-18T10:58:10.758Z"
   },
   {
    "duration": 251,
    "start_time": "2023-05-18T10:58:10.763Z"
   },
   {
    "duration": 4,
    "start_time": "2023-05-18T10:58:11.017Z"
   },
   {
    "duration": 407,
    "start_time": "2023-05-18T10:58:11.023Z"
   },
   {
    "duration": 24,
    "start_time": "2023-05-18T10:58:11.432Z"
   },
   {
    "duration": 4,
    "start_time": "2023-05-18T10:58:11.458Z"
   },
   {
    "duration": 48,
    "start_time": "2023-05-18T10:58:11.464Z"
   },
   {
    "duration": 26,
    "start_time": "2023-05-18T10:58:11.517Z"
   },
   {
    "duration": 10,
    "start_time": "2023-05-18T10:58:11.545Z"
   },
   {
    "duration": 3778,
    "start_time": "2023-05-18T10:58:11.558Z"
   },
   {
    "duration": 4781,
    "start_time": "2023-05-18T10:58:15.338Z"
   },
   {
    "duration": 14,
    "start_time": "2023-05-18T10:58:20.121Z"
   },
   {
    "duration": 15,
    "start_time": "2023-05-18T10:58:20.137Z"
   },
   {
    "duration": 16,
    "start_time": "2023-05-18T10:58:20.155Z"
   },
   {
    "duration": 27,
    "start_time": "2023-05-18T10:58:20.173Z"
   },
   {
    "duration": 65,
    "start_time": "2023-05-18T10:58:20.201Z"
   },
   {
    "duration": 3348,
    "start_time": "2023-05-18T10:58:20.269Z"
   },
   {
    "duration": 50,
    "start_time": "2023-05-18T10:58:23.619Z"
   },
   {
    "duration": 8,
    "start_time": "2023-05-18T10:58:23.670Z"
   },
   {
    "duration": 32,
    "start_time": "2023-05-18T10:58:23.680Z"
   },
   {
    "duration": 2667,
    "start_time": "2023-05-18T10:58:23.714Z"
   },
   {
    "duration": 29,
    "start_time": "2023-05-18T10:58:26.383Z"
   },
   {
    "duration": 40,
    "start_time": "2023-05-18T10:58:26.415Z"
   },
   {
    "duration": 12,
    "start_time": "2023-05-18T10:58:26.457Z"
   },
   {
    "duration": 37,
    "start_time": "2023-05-18T10:58:26.471Z"
   },
   {
    "duration": 5,
    "start_time": "2023-05-18T10:58:26.509Z"
   },
   {
    "duration": 193,
    "start_time": "2023-05-18T10:58:26.516Z"
   },
   {
    "duration": 12447,
    "start_time": "2023-05-18T10:58:26.716Z"
   },
   {
    "duration": 27610,
    "start_time": "2023-05-18T10:58:39.165Z"
   },
   {
    "duration": 3,
    "start_time": "2023-05-18T11:02:07.678Z"
   },
   {
    "duration": 9,
    "start_time": "2023-05-18T11:02:08.496Z"
   },
   {
    "duration": 58,
    "start_time": "2023-05-18T11:03:23.770Z"
   },
   {
    "duration": 3442,
    "start_time": "2023-05-18T11:03:25.215Z"
   },
   {
    "duration": 3,
    "start_time": "2023-05-18T11:03:30.062Z"
   },
   {
    "duration": 2,
    "start_time": "2023-05-18T11:03:30.674Z"
   },
   {
    "duration": 6,
    "start_time": "2023-05-18T11:03:31.512Z"
   },
   {
    "duration": 2606,
    "start_time": "2023-05-18T11:03:32.207Z"
   },
   {
    "duration": 15,
    "start_time": "2023-05-18T11:03:34.816Z"
   },
   {
    "duration": 34,
    "start_time": "2023-05-18T11:03:51.762Z"
   },
   {
    "duration": 9,
    "start_time": "2023-05-18T11:03:51.962Z"
   },
   {
    "duration": 12,
    "start_time": "2023-05-18T11:03:52.542Z"
   },
   {
    "duration": 3,
    "start_time": "2023-05-18T11:03:53.911Z"
   },
   {
    "duration": 119,
    "start_time": "2023-05-18T11:03:54.282Z"
   },
   {
    "duration": 12219,
    "start_time": "2023-05-18T11:03:54.671Z"
   },
   {
    "duration": 29667,
    "start_time": "2023-05-18T11:04:06.896Z"
   },
   {
    "duration": 3,
    "start_time": "2023-05-18T11:10:41.724Z"
   },
   {
    "duration": 38963,
    "start_time": "2023-05-18T11:19:10.878Z"
   },
   {
    "duration": 6150,
    "start_time": "2023-05-18T11:31:53.530Z"
   },
   {
    "duration": 4,
    "start_time": "2023-05-18T11:33:00.054Z"
   },
   {
    "duration": 4425,
    "start_time": "2023-05-18T11:33:04.487Z"
   },
   {
    "duration": 12,
    "start_time": "2023-05-18T11:38:57.041Z"
   },
   {
    "duration": 11,
    "start_time": "2023-05-18T11:39:25.041Z"
   },
   {
    "duration": 14,
    "start_time": "2023-05-18T11:40:01.519Z"
   },
   {
    "duration": 10,
    "start_time": "2023-05-18T11:40:11.683Z"
   },
   {
    "duration": 15,
    "start_time": "2023-05-18T11:43:51.814Z"
   },
   {
    "duration": 10,
    "start_time": "2023-05-18T11:44:12.854Z"
   },
   {
    "duration": 14,
    "start_time": "2023-05-18T12:14:22.536Z"
   },
   {
    "duration": 13,
    "start_time": "2023-05-18T12:14:42.739Z"
   },
   {
    "duration": 217,
    "start_time": "2023-05-18T12:14:57.896Z"
   },
   {
    "duration": 248,
    "start_time": "2023-05-18T12:19:06.497Z"
   },
   {
    "duration": 185,
    "start_time": "2023-05-18T12:19:40.947Z"
   },
   {
    "duration": 209,
    "start_time": "2023-05-18T12:19:55.076Z"
   },
   {
    "duration": 226,
    "start_time": "2023-05-18T12:21:55.367Z"
   },
   {
    "duration": 10,
    "start_time": "2023-05-18T12:26:47.319Z"
   },
   {
    "duration": 11,
    "start_time": "2023-05-18T12:27:01.857Z"
   },
   {
    "duration": 9,
    "start_time": "2023-05-18T12:27:40.124Z"
   },
   {
    "duration": 10,
    "start_time": "2023-05-18T12:27:58.416Z"
   },
   {
    "duration": 11,
    "start_time": "2023-05-18T12:28:19.919Z"
   },
   {
    "duration": 8,
    "start_time": "2023-05-18T12:31:04.824Z"
   },
   {
    "duration": 9,
    "start_time": "2023-05-18T12:31:27.885Z"
   },
   {
    "duration": 9,
    "start_time": "2023-05-18T12:31:51.789Z"
   },
   {
    "duration": 10,
    "start_time": "2023-05-18T12:32:31.813Z"
   },
   {
    "duration": 7,
    "start_time": "2023-05-18T12:33:22.921Z"
   },
   {
    "duration": 56,
    "start_time": "2023-05-18T12:41:12.323Z"
   },
   {
    "duration": 3488,
    "start_time": "2023-05-18T12:41:13.034Z"
   },
   {
    "duration": 3,
    "start_time": "2023-05-18T12:41:16.525Z"
   },
   {
    "duration": 11,
    "start_time": "2023-05-18T12:41:16.529Z"
   },
   {
    "duration": 2297,
    "start_time": "2023-05-18T12:41:16.543Z"
   },
   {
    "duration": 13,
    "start_time": "2023-05-18T12:41:18.842Z"
   },
   {
    "duration": 53,
    "start_time": "2023-05-18T12:41:18.856Z"
   },
   {
    "duration": 9,
    "start_time": "2023-05-18T12:41:18.911Z"
   },
   {
    "duration": 47,
    "start_time": "2023-05-18T12:41:18.922Z"
   },
   {
    "duration": 179,
    "start_time": "2023-05-18T12:41:18.971Z"
   },
   {
    "duration": 58,
    "start_time": "2023-05-18T12:41:19.152Z"
   },
   {
    "duration": 9511,
    "start_time": "2023-05-18T12:41:19.212Z"
   },
   {
    "duration": 27356,
    "start_time": "2023-05-18T12:41:28.724Z"
   },
   {
    "duration": 4646,
    "start_time": "2023-05-18T12:41:56.083Z"
   },
   {
    "duration": 10,
    "start_time": "2023-05-18T12:42:00.731Z"
   },
   {
    "duration": 61,
    "start_time": "2023-05-18T12:42:00.742Z"
   },
   {
    "duration": 3537,
    "start_time": "2023-05-18T12:43:21.876Z"
   },
   {
    "duration": 4747,
    "start_time": "2023-05-18T12:43:25.416Z"
   },
   {
    "duration": 10,
    "start_time": "2023-05-18T12:43:30.165Z"
   },
   {
    "duration": 14,
    "start_time": "2023-05-18T12:43:30.177Z"
   },
   {
    "duration": 35,
    "start_time": "2023-05-18T12:43:30.198Z"
   },
   {
    "duration": 37,
    "start_time": "2023-05-18T12:43:30.235Z"
   },
   {
    "duration": 107,
    "start_time": "2023-05-18T12:43:30.274Z"
   },
   {
    "duration": 3008,
    "start_time": "2023-05-18T12:43:30.383Z"
   },
   {
    "duration": 3,
    "start_time": "2023-05-18T12:43:33.397Z"
   },
   {
    "duration": 21,
    "start_time": "2023-05-18T12:43:33.402Z"
   },
   {
    "duration": 2196,
    "start_time": "2023-05-18T12:43:33.424Z"
   },
   {
    "duration": 12,
    "start_time": "2023-05-18T12:43:35.621Z"
   },
   {
    "duration": 63,
    "start_time": "2023-05-18T12:43:35.634Z"
   },
   {
    "duration": 32,
    "start_time": "2023-05-18T12:43:35.698Z"
   },
   {
    "duration": 31,
    "start_time": "2023-05-18T12:43:35.732Z"
   },
   {
    "duration": 28,
    "start_time": "2023-05-18T12:43:35.764Z"
   },
   {
    "duration": 108,
    "start_time": "2023-05-18T12:43:35.794Z"
   },
   {
    "duration": 10219,
    "start_time": "2023-05-18T12:43:35.905Z"
   },
   {
    "duration": 31916,
    "start_time": "2023-05-18T12:43:46.126Z"
   },
   {
    "duration": 5441,
    "start_time": "2023-05-18T12:44:18.044Z"
   },
   {
    "duration": 15,
    "start_time": "2023-05-18T12:44:23.487Z"
   },
   {
    "duration": 41,
    "start_time": "2023-05-18T12:44:23.504Z"
   },
   {
    "duration": 1740,
    "start_time": "2023-05-18T12:47:45.619Z"
   },
   {
    "duration": 10,
    "start_time": "2023-05-18T12:52:19.473Z"
   },
   {
    "duration": 10,
    "start_time": "2023-05-18T12:52:28.959Z"
   },
   {
    "duration": 12,
    "start_time": "2023-05-18T12:52:33.926Z"
   },
   {
    "duration": 9,
    "start_time": "2023-05-18T12:54:11.569Z"
   },
   {
    "duration": 14,
    "start_time": "2023-05-18T12:54:20.732Z"
   },
   {
    "duration": 21,
    "start_time": "2023-05-18T12:54:31.991Z"
   },
   {
    "duration": 11,
    "start_time": "2023-05-18T12:54:55.890Z"
   },
   {
    "duration": 7,
    "start_time": "2023-05-18T13:01:05.520Z"
   },
   {
    "duration": 193,
    "start_time": "2023-05-18T13:01:05.530Z"
   },
   {
    "duration": 20,
    "start_time": "2023-05-18T13:01:05.725Z"
   },
   {
    "duration": 24,
    "start_time": "2023-05-18T13:01:05.747Z"
   },
   {
    "duration": 22,
    "start_time": "2023-05-18T13:01:05.774Z"
   },
   {
    "duration": 22,
    "start_time": "2023-05-18T13:01:05.799Z"
   },
   {
    "duration": 10,
    "start_time": "2023-05-18T13:01:05.824Z"
   },
   {
    "duration": 12,
    "start_time": "2023-05-18T13:01:05.836Z"
   },
   {
    "duration": 49,
    "start_time": "2023-05-18T13:01:05.850Z"
   },
   {
    "duration": 148,
    "start_time": "2023-05-18T13:01:05.901Z"
   },
   {
    "duration": 180,
    "start_time": "2023-05-18T13:01:06.051Z"
   },
   {
    "duration": 238,
    "start_time": "2023-05-18T13:01:06.234Z"
   },
   {
    "duration": 41,
    "start_time": "2023-05-18T13:01:06.474Z"
   },
   {
    "duration": 22,
    "start_time": "2023-05-18T13:01:06.519Z"
   },
   {
    "duration": 22,
    "start_time": "2023-05-18T13:01:06.543Z"
   },
   {
    "duration": 2138,
    "start_time": "2023-05-18T13:01:06.567Z"
   },
   {
    "duration": 10,
    "start_time": "2023-05-18T13:01:08.708Z"
   },
   {
    "duration": 4,
    "start_time": "2023-05-18T13:01:39.774Z"
   },
   {
    "duration": 198,
    "start_time": "2023-05-18T13:01:39.781Z"
   },
   {
    "duration": 19,
    "start_time": "2023-05-18T13:01:39.981Z"
   },
   {
    "duration": 63,
    "start_time": "2023-05-18T13:01:40.002Z"
   },
   {
    "duration": 18,
    "start_time": "2023-05-18T13:01:40.068Z"
   },
   {
    "duration": 26,
    "start_time": "2023-05-18T13:01:40.089Z"
   },
   {
    "duration": 18,
    "start_time": "2023-05-18T13:01:40.117Z"
   },
   {
    "duration": 18,
    "start_time": "2023-05-18T13:01:40.137Z"
   },
   {
    "duration": 22,
    "start_time": "2023-05-18T13:01:40.157Z"
   },
   {
    "duration": 134,
    "start_time": "2023-05-18T13:01:40.181Z"
   },
   {
    "duration": 129,
    "start_time": "2023-05-18T13:01:40.317Z"
   },
   {
    "duration": 250,
    "start_time": "2023-05-18T13:01:40.448Z"
   },
   {
    "duration": 22,
    "start_time": "2023-05-18T13:01:40.700Z"
   },
   {
    "duration": 15,
    "start_time": "2023-05-18T13:01:40.726Z"
   },
   {
    "duration": 11,
    "start_time": "2023-05-18T13:01:40.743Z"
   },
   {
    "duration": 1979,
    "start_time": "2023-05-18T13:01:40.755Z"
   },
   {
    "duration": 7,
    "start_time": "2023-05-18T13:01:42.737Z"
   },
   {
    "duration": 1473,
    "start_time": "2023-05-18T13:02:25.871Z"
   },
   {
    "duration": 196,
    "start_time": "2023-05-18T13:02:27.346Z"
   },
   {
    "duration": 19,
    "start_time": "2023-05-18T13:02:27.543Z"
   },
   {
    "duration": 8,
    "start_time": "2023-05-18T13:02:27.564Z"
   },
   {
    "duration": 14,
    "start_time": "2023-05-18T13:02:27.574Z"
   },
   {
    "duration": 14,
    "start_time": "2023-05-18T13:02:27.590Z"
   },
   {
    "duration": 7,
    "start_time": "2023-05-18T13:02:27.605Z"
   },
   {
    "duration": 6,
    "start_time": "2023-05-18T13:02:27.613Z"
   },
   {
    "duration": 12,
    "start_time": "2023-05-18T13:02:27.621Z"
   },
   {
    "duration": 129,
    "start_time": "2023-05-18T13:02:27.635Z"
   },
   {
    "duration": 120,
    "start_time": "2023-05-18T13:02:27.765Z"
   },
   {
    "duration": 192,
    "start_time": "2023-05-18T13:02:27.886Z"
   },
   {
    "duration": 22,
    "start_time": "2023-05-18T13:02:28.080Z"
   },
   {
    "duration": 19,
    "start_time": "2023-05-18T13:02:28.105Z"
   },
   {
    "duration": 8,
    "start_time": "2023-05-18T13:02:28.126Z"
   },
   {
    "duration": 1475,
    "start_time": "2023-05-18T13:02:28.135Z"
   },
   {
    "duration": 7,
    "start_time": "2023-05-18T13:02:29.612Z"
   },
   {
    "duration": 22,
    "start_time": "2023-05-18T13:02:29.620Z"
   },
   {
    "duration": 16,
    "start_time": "2023-05-18T13:04:59.894Z"
   },
   {
    "duration": 121,
    "start_time": "2023-05-18T13:07:33.356Z"
   },
   {
    "duration": 36,
    "start_time": "2023-05-18T13:08:54.894Z"
   },
   {
    "duration": 11,
    "start_time": "2023-05-18T13:09:04.963Z"
   },
   {
    "duration": 7,
    "start_time": "2023-05-18T13:09:56.913Z"
   },
   {
    "duration": 6,
    "start_time": "2023-05-18T13:13:28.363Z"
   },
   {
    "duration": 221,
    "start_time": "2023-05-18T13:13:28.372Z"
   },
   {
    "duration": 28,
    "start_time": "2023-05-18T13:13:28.594Z"
   },
   {
    "duration": 19,
    "start_time": "2023-05-18T13:13:28.623Z"
   },
   {
    "duration": 25,
    "start_time": "2023-05-18T13:13:28.645Z"
   },
   {
    "duration": 36,
    "start_time": "2023-05-18T13:13:28.672Z"
   },
   {
    "duration": 10,
    "start_time": "2023-05-18T13:13:28.710Z"
   },
   {
    "duration": 16,
    "start_time": "2023-05-18T13:13:28.722Z"
   },
   {
    "duration": 37,
    "start_time": "2023-05-18T13:13:28.740Z"
   },
   {
    "duration": 139,
    "start_time": "2023-05-18T13:13:28.779Z"
   },
   {
    "duration": 159,
    "start_time": "2023-05-18T13:13:28.921Z"
   },
   {
    "duration": 225,
    "start_time": "2023-05-18T13:13:29.082Z"
   },
   {
    "duration": 21,
    "start_time": "2023-05-18T13:13:29.312Z"
   },
   {
    "duration": 22,
    "start_time": "2023-05-18T13:13:29.336Z"
   },
   {
    "duration": 161,
    "start_time": "2023-05-18T13:13:29.360Z"
   },
   {
    "duration": 1614,
    "start_time": "2023-05-18T13:13:29.524Z"
   },
   {
    "duration": 8,
    "start_time": "2023-05-18T13:13:31.141Z"
   },
   {
    "duration": 57,
    "start_time": "2023-05-18T13:13:31.151Z"
   },
   {
    "duration": 56,
    "start_time": "2023-05-18T13:13:31.210Z"
   },
   {
    "duration": 35,
    "start_time": "2023-05-18T13:13:31.269Z"
   },
   {
    "duration": 53,
    "start_time": "2023-05-18T13:13:31.307Z"
   },
   {
    "duration": 62,
    "start_time": "2023-05-18T13:13:31.363Z"
   },
   {
    "duration": 71,
    "start_time": "2023-05-18T13:13:31.427Z"
   },
   {
    "duration": 41,
    "start_time": "2023-05-18T13:13:31.500Z"
   },
   {
    "duration": 267,
    "start_time": "2023-05-18T13:13:31.543Z"
   },
   {
    "duration": 16,
    "start_time": "2023-05-18T13:13:31.813Z"
   },
   {
    "duration": 233,
    "start_time": "2023-05-18T13:13:31.831Z"
   },
   {
    "duration": 9,
    "start_time": "2023-05-18T13:13:32.066Z"
   },
   {
    "duration": 62,
    "start_time": "2023-05-18T13:13:32.077Z"
   },
   {
    "duration": 45,
    "start_time": "2023-05-18T13:13:32.146Z"
   },
   {
    "duration": 19,
    "start_time": "2023-05-18T13:13:32.194Z"
   },
   {
    "duration": 20,
    "start_time": "2023-05-18T13:13:32.215Z"
   },
   {
    "duration": 27,
    "start_time": "2023-05-18T13:13:32.237Z"
   },
   {
    "duration": 392,
    "start_time": "2023-05-18T13:13:32.266Z"
   },
   {
    "duration": 306,
    "start_time": "2023-05-18T13:13:32.660Z"
   },
   {
    "duration": 20,
    "start_time": "2023-05-18T13:13:32.968Z"
   },
   {
    "duration": 60,
    "start_time": "2023-05-18T13:13:33.001Z"
   },
   {
    "duration": 16,
    "start_time": "2023-05-18T13:13:33.069Z"
   },
   {
    "duration": 33,
    "start_time": "2023-05-18T13:13:33.088Z"
   },
   {
    "duration": 50,
    "start_time": "2023-05-18T13:13:33.124Z"
   },
   {
    "duration": 198,
    "start_time": "2023-05-18T13:13:33.178Z"
   },
   {
    "duration": 4,
    "start_time": "2023-05-18T13:15:39.386Z"
   },
   {
    "duration": 212,
    "start_time": "2023-05-18T13:15:39.392Z"
   },
   {
    "duration": 15,
    "start_time": "2023-05-18T13:15:39.606Z"
   },
   {
    "duration": 25,
    "start_time": "2023-05-18T13:15:39.623Z"
   },
   {
    "duration": 33,
    "start_time": "2023-05-18T13:15:39.650Z"
   },
   {
    "duration": 24,
    "start_time": "2023-05-18T13:15:39.685Z"
   },
   {
    "duration": 14,
    "start_time": "2023-05-18T13:15:39.710Z"
   },
   {
    "duration": 21,
    "start_time": "2023-05-18T13:15:39.725Z"
   },
   {
    "duration": 28,
    "start_time": "2023-05-18T13:15:39.748Z"
   },
   {
    "duration": 98,
    "start_time": "2023-05-18T13:15:39.777Z"
   },
   {
    "duration": 105,
    "start_time": "2023-05-18T13:15:39.877Z"
   },
   {
    "duration": 179,
    "start_time": "2023-05-18T13:15:39.984Z"
   },
   {
    "duration": 17,
    "start_time": "2023-05-18T13:15:40.165Z"
   },
   {
    "duration": 21,
    "start_time": "2023-05-18T13:15:40.184Z"
   },
   {
    "duration": 13,
    "start_time": "2023-05-18T13:15:40.207Z"
   },
   {
    "duration": 1405,
    "start_time": "2023-05-18T13:15:40.222Z"
   },
   {
    "duration": 6,
    "start_time": "2023-05-18T13:15:41.628Z"
   },
   {
    "duration": 27,
    "start_time": "2023-05-18T13:15:41.635Z"
   },
   {
    "duration": 15,
    "start_time": "2023-05-18T13:15:41.663Z"
   },
   {
    "duration": 20,
    "start_time": "2023-05-18T13:15:41.679Z"
   },
   {
    "duration": 7,
    "start_time": "2023-05-18T13:15:41.700Z"
   },
   {
    "duration": 7,
    "start_time": "2023-05-18T13:15:41.709Z"
   },
   {
    "duration": 10,
    "start_time": "2023-05-18T13:15:41.718Z"
   },
   {
    "duration": 7,
    "start_time": "2023-05-18T13:15:41.730Z"
   },
   {
    "duration": 162,
    "start_time": "2023-05-18T13:15:41.740Z"
   },
   {
    "duration": 9,
    "start_time": "2023-05-18T13:15:41.903Z"
   },
   {
    "duration": 115,
    "start_time": "2023-05-18T13:15:41.913Z"
   },
   {
    "duration": 6,
    "start_time": "2023-05-18T13:15:42.030Z"
   },
   {
    "duration": 8,
    "start_time": "2023-05-18T13:15:42.040Z"
   },
   {
    "duration": 12,
    "start_time": "2023-05-18T13:15:42.050Z"
   },
   {
    "duration": 38,
    "start_time": "2023-05-18T13:15:42.064Z"
   },
   {
    "duration": 6,
    "start_time": "2023-05-18T13:15:42.103Z"
   },
   {
    "duration": 9,
    "start_time": "2023-05-18T13:15:42.111Z"
   },
   {
    "duration": 236,
    "start_time": "2023-05-18T13:15:42.121Z"
   },
   {
    "duration": 104,
    "start_time": "2023-05-18T13:15:42.359Z"
   },
   {
    "duration": 12,
    "start_time": "2023-05-18T13:15:42.465Z"
   },
   {
    "duration": 23,
    "start_time": "2023-05-18T13:15:42.478Z"
   },
   {
    "duration": 6,
    "start_time": "2023-05-18T13:15:42.503Z"
   },
   {
    "duration": 9,
    "start_time": "2023-05-18T13:15:42.511Z"
   },
   {
    "duration": 13,
    "start_time": "2023-05-18T13:15:42.521Z"
   },
   {
    "duration": 135,
    "start_time": "2023-05-18T13:15:42.536Z"
   },
   {
    "duration": 12,
    "start_time": "2023-05-18T13:15:42.672Z"
   },
   {
    "duration": 11,
    "start_time": "2023-05-18T13:15:42.698Z"
   },
   {
    "duration": 11,
    "start_time": "2023-05-18T13:15:42.711Z"
   },
   {
    "duration": 7,
    "start_time": "2023-05-18T13:15:42.724Z"
   },
   {
    "duration": 6,
    "start_time": "2023-05-18T13:15:42.732Z"
   },
   {
    "duration": 9,
    "start_time": "2023-05-18T13:15:42.739Z"
   },
   {
    "duration": 13,
    "start_time": "2023-05-18T13:15:42.749Z"
   },
   {
    "duration": 35,
    "start_time": "2023-05-18T13:15:42.763Z"
   },
   {
    "duration": 86,
    "start_time": "2023-05-18T13:15:42.800Z"
   },
   {
    "duration": 18,
    "start_time": "2023-05-18T13:15:42.888Z"
   },
   {
    "duration": 18,
    "start_time": "2023-05-18T13:15:42.907Z"
   },
   {
    "duration": 14,
    "start_time": "2023-05-18T13:15:42.926Z"
   },
   {
    "duration": 20,
    "start_time": "2023-05-18T13:15:42.942Z"
   },
   {
    "duration": 39,
    "start_time": "2023-05-18T13:15:42.963Z"
   },
   {
    "duration": 183,
    "start_time": "2023-05-18T13:15:43.004Z"
   },
   {
    "duration": 168,
    "start_time": "2023-05-18T13:15:43.197Z"
   },
   {
    "duration": 9,
    "start_time": "2023-05-18T13:15:43.367Z"
   },
   {
    "duration": 19,
    "start_time": "2023-05-18T13:15:43.378Z"
   },
   {
    "duration": 175,
    "start_time": "2023-05-18T13:15:43.399Z"
   },
   {
    "duration": 3,
    "start_time": "2023-05-18T13:15:43.576Z"
   },
   {
    "duration": 29,
    "start_time": "2023-05-18T13:15:43.580Z"
   },
   {
    "duration": 31,
    "start_time": "2023-05-18T13:15:43.611Z"
   },
   {
    "duration": 14,
    "start_time": "2023-05-18T13:15:43.644Z"
   },
   {
    "duration": 305,
    "start_time": "2023-05-18T13:15:43.659Z"
   },
   {
    "duration": 3,
    "start_time": "2023-05-18T13:15:43.966Z"
   },
   {
    "duration": 187,
    "start_time": "2023-05-18T13:15:43.970Z"
   },
   {
    "duration": 17,
    "start_time": "2023-05-18T13:15:44.159Z"
   },
   {
    "duration": 3,
    "start_time": "2023-05-18T13:15:44.178Z"
   },
   {
    "duration": 12,
    "start_time": "2023-05-18T13:15:44.197Z"
   },
   {
    "duration": 21,
    "start_time": "2023-05-18T13:15:44.210Z"
   },
   {
    "duration": 6,
    "start_time": "2023-05-18T13:15:44.232Z"
   },
   {
    "duration": 3209,
    "start_time": "2023-05-18T13:15:44.240Z"
   },
   {
    "duration": 3822,
    "start_time": "2023-05-18T13:15:47.451Z"
   },
   {
    "duration": 10,
    "start_time": "2023-05-18T13:15:51.274Z"
   },
   {
    "duration": 12,
    "start_time": "2023-05-18T13:15:51.285Z"
   },
   {
    "duration": 13,
    "start_time": "2023-05-18T13:15:51.298Z"
   },
   {
    "duration": 16,
    "start_time": "2023-05-18T13:15:51.313Z"
   },
   {
    "duration": 44,
    "start_time": "2023-05-18T13:15:51.331Z"
   },
   {
    "duration": 2885,
    "start_time": "2023-05-18T13:15:51.377Z"
   },
   {
    "duration": 2,
    "start_time": "2023-05-18T13:15:54.264Z"
   },
   {
    "duration": 13,
    "start_time": "2023-05-18T13:15:54.267Z"
   },
   {
    "duration": 2134,
    "start_time": "2023-05-18T13:15:54.285Z"
   },
   {
    "duration": 12,
    "start_time": "2023-05-18T13:15:56.421Z"
   },
   {
    "duration": 34,
    "start_time": "2023-05-18T13:15:56.434Z"
   },
   {
    "duration": 12,
    "start_time": "2023-05-18T13:15:56.470Z"
   },
   {
    "duration": 24,
    "start_time": "2023-05-18T13:15:56.483Z"
   },
   {
    "duration": 2,
    "start_time": "2023-05-18T13:15:56.509Z"
   },
   {
    "duration": 98,
    "start_time": "2023-05-18T13:15:56.513Z"
   },
   {
    "duration": 9805,
    "start_time": "2023-05-18T13:15:56.613Z"
   },
   {
    "duration": 25306,
    "start_time": "2023-05-18T13:16:06.420Z"
   },
   {
    "duration": 3894,
    "start_time": "2023-05-18T13:16:31.727Z"
   },
   {
    "duration": 9,
    "start_time": "2023-05-18T13:16:35.622Z"
   },
   {
    "duration": 20,
    "start_time": "2023-05-18T13:16:35.633Z"
   },
   {
    "duration": 1557,
    "start_time": "2023-05-18T13:44:18.866Z"
   },
   {
    "duration": 186,
    "start_time": "2023-05-18T13:44:20.425Z"
   },
   {
    "duration": 19,
    "start_time": "2023-05-18T13:44:20.613Z"
   },
   {
    "duration": 10,
    "start_time": "2023-05-18T13:44:20.634Z"
   },
   {
    "duration": 24,
    "start_time": "2023-05-18T13:44:20.646Z"
   },
   {
    "duration": 16,
    "start_time": "2023-05-18T13:44:20.671Z"
   },
   {
    "duration": 8,
    "start_time": "2023-05-18T13:44:20.697Z"
   },
   {
    "duration": 7,
    "start_time": "2023-05-18T13:44:20.706Z"
   },
   {
    "duration": 13,
    "start_time": "2023-05-18T13:44:20.715Z"
   },
   {
    "duration": 137,
    "start_time": "2023-05-18T13:44:20.731Z"
   },
   {
    "duration": 110,
    "start_time": "2023-05-18T13:44:20.869Z"
   },
   {
    "duration": 195,
    "start_time": "2023-05-18T13:44:20.980Z"
   },
   {
    "duration": 28,
    "start_time": "2023-05-18T13:44:21.176Z"
   },
   {
    "duration": 11,
    "start_time": "2023-05-18T13:44:21.206Z"
   },
   {
    "duration": 18,
    "start_time": "2023-05-18T13:44:21.219Z"
   },
   {
    "duration": 1433,
    "start_time": "2023-05-18T13:44:21.238Z"
   },
   {
    "duration": 6,
    "start_time": "2023-05-18T13:44:22.673Z"
   },
   {
    "duration": 27,
    "start_time": "2023-05-18T13:44:22.681Z"
   },
   {
    "duration": 14,
    "start_time": "2023-05-18T13:44:22.710Z"
   },
   {
    "duration": 11,
    "start_time": "2023-05-18T13:44:22.725Z"
   },
   {
    "duration": 7,
    "start_time": "2023-05-18T13:44:22.737Z"
   },
   {
    "duration": 7,
    "start_time": "2023-05-18T13:44:22.746Z"
   },
   {
    "duration": 49,
    "start_time": "2023-05-18T13:44:22.754Z"
   },
   {
    "duration": 12,
    "start_time": "2023-05-18T13:44:22.805Z"
   },
   {
    "duration": 151,
    "start_time": "2023-05-18T13:44:22.819Z"
   },
   {
    "duration": 7,
    "start_time": "2023-05-18T13:44:22.972Z"
   },
   {
    "duration": 121,
    "start_time": "2023-05-18T13:44:22.981Z"
   },
   {
    "duration": 6,
    "start_time": "2023-05-18T13:44:23.107Z"
   },
   {
    "duration": 11,
    "start_time": "2023-05-18T13:44:23.115Z"
   },
   {
    "duration": 14,
    "start_time": "2023-05-18T13:44:23.128Z"
   },
   {
    "duration": 10,
    "start_time": "2023-05-18T13:44:23.144Z"
   },
   {
    "duration": 6,
    "start_time": "2023-05-18T13:44:23.155Z"
   },
   {
    "duration": 35,
    "start_time": "2023-05-18T13:44:23.162Z"
   },
   {
    "duration": 251,
    "start_time": "2023-05-18T13:44:23.199Z"
   },
   {
    "duration": 204,
    "start_time": "2023-05-18T13:44:23.451Z"
   },
   {
    "duration": 12,
    "start_time": "2023-05-18T13:44:23.657Z"
   },
   {
    "duration": 13,
    "start_time": "2023-05-18T13:44:23.670Z"
   },
   {
    "duration": 7,
    "start_time": "2023-05-18T13:44:23.696Z"
   },
   {
    "duration": 6,
    "start_time": "2023-05-18T13:44:23.704Z"
   },
   {
    "duration": 10,
    "start_time": "2023-05-18T13:44:23.712Z"
   },
   {
    "duration": 129,
    "start_time": "2023-05-18T13:44:23.723Z"
   },
   {
    "duration": 11,
    "start_time": "2023-05-18T13:44:23.853Z"
   },
   {
    "duration": 16,
    "start_time": "2023-05-18T13:44:23.866Z"
   },
   {
    "duration": 9,
    "start_time": "2023-05-18T13:44:23.897Z"
   },
   {
    "duration": 6,
    "start_time": "2023-05-18T13:44:23.907Z"
   },
   {
    "duration": 5,
    "start_time": "2023-05-18T13:44:23.915Z"
   },
   {
    "duration": 10,
    "start_time": "2023-05-18T13:44:23.921Z"
   },
   {
    "duration": 15,
    "start_time": "2023-05-18T13:44:23.932Z"
   },
   {
    "duration": 8,
    "start_time": "2023-05-18T13:44:23.949Z"
   },
   {
    "duration": 102,
    "start_time": "2023-05-18T13:44:23.958Z"
   },
   {
    "duration": 12,
    "start_time": "2023-05-18T13:44:24.061Z"
   },
   {
    "duration": 24,
    "start_time": "2023-05-18T13:44:24.075Z"
   },
   {
    "duration": 13,
    "start_time": "2023-05-18T13:44:24.100Z"
   },
   {
    "duration": 18,
    "start_time": "2023-05-18T13:44:24.114Z"
   },
   {
    "duration": 20,
    "start_time": "2023-05-18T13:44:24.134Z"
   },
   {
    "duration": 208,
    "start_time": "2023-05-18T13:44:24.155Z"
   },
   {
    "duration": 210,
    "start_time": "2023-05-18T13:44:24.365Z"
   },
   {
    "duration": 10,
    "start_time": "2023-05-18T13:44:24.576Z"
   },
   {
    "duration": 15,
    "start_time": "2023-05-18T13:44:24.587Z"
   },
   {
    "duration": 185,
    "start_time": "2023-05-18T13:44:24.604Z"
   },
   {
    "duration": 7,
    "start_time": "2023-05-18T13:44:24.791Z"
   },
   {
    "duration": 19,
    "start_time": "2023-05-18T13:44:24.800Z"
   },
   {
    "duration": 19,
    "start_time": "2023-05-18T13:44:24.821Z"
   },
   {
    "duration": 2,
    "start_time": "2023-05-18T13:44:24.842Z"
   },
   {
    "duration": 188,
    "start_time": "2023-05-18T13:44:24.846Z"
   },
   {
    "duration": 3,
    "start_time": "2023-05-18T13:44:25.036Z"
   },
   {
    "duration": 190,
    "start_time": "2023-05-18T13:44:25.040Z"
   },
   {
    "duration": 16,
    "start_time": "2023-05-18T13:44:25.232Z"
   },
   {
    "duration": 2,
    "start_time": "2023-05-18T13:44:25.250Z"
   },
   {
    "duration": 29,
    "start_time": "2023-05-18T13:44:25.254Z"
   },
   {
    "duration": 32,
    "start_time": "2023-05-18T13:44:25.285Z"
   },
   {
    "duration": 5,
    "start_time": "2023-05-18T13:44:25.319Z"
   },
   {
    "duration": 3133,
    "start_time": "2023-05-18T13:44:25.326Z"
   },
   {
    "duration": 3744,
    "start_time": "2023-05-18T13:44:28.461Z"
   },
   {
    "duration": 10,
    "start_time": "2023-05-18T13:44:32.207Z"
   },
   {
    "duration": 21,
    "start_time": "2023-05-18T13:44:32.219Z"
   },
   {
    "duration": 25,
    "start_time": "2023-05-18T13:44:32.241Z"
   },
   {
    "duration": 18,
    "start_time": "2023-05-18T13:44:32.268Z"
   },
   {
    "duration": 61,
    "start_time": "2023-05-18T13:44:32.288Z"
   },
   {
    "duration": 2953,
    "start_time": "2023-05-18T13:44:32.351Z"
   },
   {
    "duration": 3,
    "start_time": "2023-05-18T13:44:35.306Z"
   },
   {
    "duration": 24,
    "start_time": "2023-05-18T13:44:35.314Z"
   },
   {
    "duration": 2159,
    "start_time": "2023-05-18T13:44:35.340Z"
   },
   {
    "duration": 11,
    "start_time": "2023-05-18T13:44:37.501Z"
   },
   {
    "duration": 32,
    "start_time": "2023-05-18T13:44:37.514Z"
   },
   {
    "duration": 11,
    "start_time": "2023-05-18T13:44:37.548Z"
   },
   {
    "duration": 11,
    "start_time": "2023-05-18T13:44:37.560Z"
   },
   {
    "duration": 3,
    "start_time": "2023-05-18T13:44:37.572Z"
   },
   {
    "duration": 118,
    "start_time": "2023-05-18T13:44:37.598Z"
   },
   {
    "duration": 9693,
    "start_time": "2023-05-18T13:44:37.799Z"
   },
   {
    "duration": 27410,
    "start_time": "2023-05-18T13:44:47.496Z"
   },
   {
    "duration": 4269,
    "start_time": "2023-05-18T13:45:14.907Z"
   },
   {
    "duration": 10,
    "start_time": "2023-05-18T13:45:19.178Z"
   },
   {
    "duration": 13,
    "start_time": "2023-05-18T13:45:19.190Z"
   },
   {
    "duration": 11506,
    "start_time": "2023-05-18T20:01:33.382Z"
   },
   {
    "duration": 2087,
    "start_time": "2023-05-18T20:01:44.891Z"
   },
   {
    "duration": 201,
    "start_time": "2023-05-18T20:01:46.981Z"
   },
   {
    "duration": 105,
    "start_time": "2023-05-18T20:01:47.185Z"
   },
   {
    "duration": 99,
    "start_time": "2023-05-18T20:01:47.380Z"
   },
   {
    "duration": 98,
    "start_time": "2023-05-18T20:01:47.482Z"
   },
   {
    "duration": 95,
    "start_time": "2023-05-18T20:01:47.583Z"
   },
   {
    "duration": 98,
    "start_time": "2023-05-18T20:01:47.681Z"
   },
   {
    "duration": 97,
    "start_time": "2023-05-18T20:01:47.782Z"
   },
   {
    "duration": 1101,
    "start_time": "2023-05-18T20:01:47.882Z"
   },
   {
    "duration": 811,
    "start_time": "2023-05-18T20:01:48.986Z"
   },
   {
    "duration": 1703,
    "start_time": "2023-05-18T20:01:49.878Z"
   },
   {
    "duration": 113,
    "start_time": "2023-05-18T20:01:51.583Z"
   },
   {
    "duration": 102,
    "start_time": "2023-05-18T20:01:51.781Z"
   },
   {
    "duration": 94,
    "start_time": "2023-05-18T20:01:51.886Z"
   },
   {
    "duration": 12799,
    "start_time": "2023-05-18T20:01:51.982Z"
   },
   {
    "duration": 96,
    "start_time": "2023-05-18T20:02:04.786Z"
   },
   {
    "duration": 107,
    "start_time": "2023-05-18T20:02:04.978Z"
   },
   {
    "duration": 190,
    "start_time": "2023-05-18T20:02:05.088Z"
   },
   {
    "duration": 99,
    "start_time": "2023-05-18T20:02:05.281Z"
   },
   {
    "duration": 203,
    "start_time": "2023-05-18T20:02:05.384Z"
   },
   {
    "duration": 97,
    "start_time": "2023-05-18T20:02:05.590Z"
   },
   {
    "duration": 100,
    "start_time": "2023-05-18T20:02:05.691Z"
   },
   {
    "duration": 97,
    "start_time": "2023-05-18T20:02:05.794Z"
   },
   {
    "duration": 1388,
    "start_time": "2023-05-18T20:02:05.894Z"
   },
   {
    "duration": 96,
    "start_time": "2023-05-18T20:02:07.284Z"
   },
   {
    "duration": 1110,
    "start_time": "2023-05-18T20:02:07.382Z"
   },
   {
    "duration": 8,
    "start_time": "2023-05-18T20:02:08.579Z"
   },
   {
    "duration": 96,
    "start_time": "2023-05-18T20:02:08.589Z"
   },
   {
    "duration": 101,
    "start_time": "2023-05-18T20:02:08.687Z"
   },
   {
    "duration": 199,
    "start_time": "2023-05-18T20:02:08.790Z"
   },
   {
    "duration": 100,
    "start_time": "2023-05-18T20:02:09.080Z"
   },
   {
    "duration": 8,
    "start_time": "2023-05-18T20:02:09.183Z"
   },
   {
    "duration": 1793,
    "start_time": "2023-05-18T20:02:09.192Z"
   },
   {
    "duration": 1494,
    "start_time": "2023-05-18T20:02:10.987Z"
   },
   {
    "duration": 102,
    "start_time": "2023-05-18T20:02:12.484Z"
   },
   {
    "duration": 188,
    "start_time": "2023-05-18T20:02:12.589Z"
   },
   {
    "duration": 100,
    "start_time": "2023-05-18T20:02:12.782Z"
   },
   {
    "duration": 97,
    "start_time": "2023-05-18T20:02:12.884Z"
   },
   {
    "duration": 107,
    "start_time": "2023-05-18T20:02:12.983Z"
   },
   {
    "duration": 1090,
    "start_time": "2023-05-18T20:02:13.094Z"
   },
   {
    "duration": 102,
    "start_time": "2023-05-18T20:02:14.187Z"
   },
   {
    "duration": 185,
    "start_time": "2023-05-18T20:02:14.293Z"
   },
   {
    "duration": 97,
    "start_time": "2023-05-18T20:02:14.480Z"
   },
   {
    "duration": 11,
    "start_time": "2023-05-18T20:02:14.580Z"
   },
   {
    "duration": 88,
    "start_time": "2023-05-18T20:02:14.594Z"
   },
   {
    "duration": 108,
    "start_time": "2023-05-18T20:02:14.684Z"
   },
   {
    "duration": 99,
    "start_time": "2023-05-18T20:02:14.880Z"
   },
   {
    "duration": 12,
    "start_time": "2023-05-18T20:02:14.982Z"
   },
   {
    "duration": 519,
    "start_time": "2023-05-18T20:02:15.080Z"
   },
   {
    "duration": 16,
    "start_time": "2023-05-18T20:02:15.679Z"
   },
   {
    "duration": 190,
    "start_time": "2023-05-18T20:02:15.697Z"
   },
   {
    "duration": 105,
    "start_time": "2023-05-18T20:02:15.889Z"
   },
   {
    "duration": 106,
    "start_time": "2023-05-18T20:02:16.078Z"
   },
   {
    "duration": 197,
    "start_time": "2023-05-18T20:02:16.187Z"
   },
   {
    "duration": 1605,
    "start_time": "2023-05-18T20:02:16.386Z"
   },
   {
    "duration": 1486,
    "start_time": "2023-05-18T20:02:17.993Z"
   },
   {
    "duration": 12,
    "start_time": "2023-05-18T20:02:19.481Z"
   },
   {
    "duration": 13,
    "start_time": "2023-05-18T20:02:19.577Z"
   },
   {
    "duration": 1796,
    "start_time": "2023-05-18T20:02:19.592Z"
   },
   {
    "duration": 88,
    "start_time": "2023-05-18T20:02:21.390Z"
   },
   {
    "duration": 104,
    "start_time": "2023-05-18T20:02:21.480Z"
   },
   {
    "duration": 201,
    "start_time": "2023-05-18T20:02:21.586Z"
   },
   {
    "duration": 3,
    "start_time": "2023-05-18T20:02:21.789Z"
   },
   {
    "duration": 1297,
    "start_time": "2023-05-18T20:02:21.794Z"
   },
   {
    "duration": 5,
    "start_time": "2023-05-18T20:02:23.178Z"
   },
   {
    "duration": 1699,
    "start_time": "2023-05-18T20:02:23.185Z"
   },
   {
    "duration": 191,
    "start_time": "2023-05-18T20:02:24.887Z"
   },
   {
    "duration": 98,
    "start_time": "2023-05-18T20:02:25.080Z"
   },
   {
    "duration": 199,
    "start_time": "2023-05-18T20:02:32.179Z"
   },
   {
    "duration": 99,
    "start_time": "2023-05-18T20:02:33.479Z"
   },
   {
    "duration": 8,
    "start_time": "2023-05-18T20:02:52.579Z"
   },
   {
    "duration": 27798,
    "start_time": "2023-05-18T20:02:53.780Z"
   },
   {
    "duration": 34103,
    "start_time": "2023-05-18T20:03:21.581Z"
   },
   {
    "duration": 96,
    "start_time": "2023-05-18T20:03:55.686Z"
   },
   {
    "duration": 5,
    "start_time": "2023-05-18T20:03:55.784Z"
   },
   {
    "duration": 101,
    "start_time": "2023-05-18T20:03:55.791Z"
   },
   {
    "duration": 15,
    "start_time": "2023-05-18T20:03:55.979Z"
   },
   {
    "duration": 413,
    "start_time": "2023-05-18T20:03:56.078Z"
   },
   {
    "duration": 76,
    "start_time": "2023-06-18T12:03:47.991Z"
   },
   {
    "duration": 407,
    "start_time": "2023-06-18T12:04:02.624Z"
   },
   {
    "duration": 3,
    "start_time": "2023-06-18T12:04:03.897Z"
   },
   {
    "duration": 911,
    "start_time": "2023-06-18T12:04:04.693Z"
   },
   {
    "duration": 3,
    "start_time": "2023-06-18T12:06:06.749Z"
   },
   {
    "duration": 670,
    "start_time": "2023-06-18T12:06:23.250Z"
   },
   {
    "duration": 713,
    "start_time": "2023-06-18T12:12:05.106Z"
   },
   {
    "duration": 647,
    "start_time": "2023-06-18T12:12:53.098Z"
   },
   {
    "duration": 25,
    "start_time": "2023-06-18T12:15:55.948Z"
   },
   {
    "duration": 2,
    "start_time": "2023-06-18T12:15:56.458Z"
   },
   {
    "duration": 667,
    "start_time": "2023-06-18T12:15:57.392Z"
   },
   {
    "duration": 5,
    "start_time": "2023-06-18T12:17:05.488Z"
   },
   {
    "duration": 632,
    "start_time": "2023-06-18T12:17:42.203Z"
   },
   {
    "duration": 5,
    "start_time": "2023-06-18T12:17:42.837Z"
   },
   {
    "duration": 634,
    "start_time": "2023-06-18T12:17:55.698Z"
   },
   {
    "duration": 5,
    "start_time": "2023-06-18T12:17:57.897Z"
   },
   {
    "duration": 654,
    "start_time": "2023-06-18T12:20:26.659Z"
   },
   {
    "duration": 669,
    "start_time": "2023-06-18T12:20:37.748Z"
   },
   {
    "duration": 4,
    "start_time": "2023-06-18T12:34:15.050Z"
   },
   {
    "duration": 2,
    "start_time": "2023-06-18T12:34:15.820Z"
   },
   {
    "duration": 651,
    "start_time": "2023-06-18T12:34:17.098Z"
   },
   {
    "duration": 676,
    "start_time": "2023-06-18T12:35:22.954Z"
   },
   {
    "duration": 3,
    "start_time": "2023-06-18T12:36:10.201Z"
   },
   {
    "duration": 3,
    "start_time": "2023-06-18T12:36:10.731Z"
   },
   {
    "duration": 645,
    "start_time": "2023-06-18T12:36:11.898Z"
   },
   {
    "duration": 655,
    "start_time": "2023-06-18T12:36:12.588Z"
   },
   {
    "duration": 1592,
    "start_time": "2023-06-18T12:44:33.195Z"
   },
   {
    "duration": 6,
    "start_time": "2023-06-18T12:46:01.290Z"
   },
   {
    "duration": 3,
    "start_time": "2023-06-18T12:46:10.052Z"
   },
   {
    "duration": 668,
    "start_time": "2023-06-18T12:46:11.232Z"
   },
   {
    "duration": 74,
    "start_time": "2023-06-18T12:48:05.757Z"
   },
   {
    "duration": 13,
    "start_time": "2023-06-18T12:49:09.324Z"
   },
   {
    "duration": 4,
    "start_time": "2023-06-18T12:50:39.949Z"
   },
   {
    "duration": 662,
    "start_time": "2023-06-18T12:52:30.126Z"
   },
   {
    "duration": 2,
    "start_time": "2023-06-18T13:03:16.899Z"
   },
   {
    "duration": 687,
    "start_time": "2023-06-18T13:03:18.693Z"
   },
   {
    "duration": 15,
    "start_time": "2023-06-18T13:03:19.526Z"
   },
   {
    "duration": 2,
    "start_time": "2023-06-18T13:09:56.029Z"
   },
   {
    "duration": 686,
    "start_time": "2023-06-18T13:11:37.301Z"
   },
   {
    "duration": 634,
    "start_time": "2023-06-18T13:11:54.041Z"
   },
   {
    "duration": 635,
    "start_time": "2023-06-18T13:12:06.194Z"
   },
   {
    "duration": 676,
    "start_time": "2023-06-18T13:12:43.358Z"
   },
   {
    "duration": 15,
    "start_time": "2023-06-18T13:12:51.935Z"
   },
   {
    "duration": 11,
    "start_time": "2023-06-18T13:13:27.761Z"
   },
   {
    "duration": 8,
    "start_time": "2023-06-18T13:15:56.103Z"
   },
   {
    "duration": 5,
    "start_time": "2023-06-18T13:17:01.989Z"
   },
   {
    "duration": 6,
    "start_time": "2023-06-18T13:19:14.845Z"
   },
   {
    "duration": 7,
    "start_time": "2023-06-18T13:23:40.946Z"
   },
   {
    "duration": 18,
    "start_time": "2023-06-18T13:32:36.637Z"
   },
   {
    "duration": 7,
    "start_time": "2023-06-18T13:32:54.853Z"
   },
   {
    "duration": 8,
    "start_time": "2023-06-18T13:39:56.451Z"
   },
   {
    "duration": 8,
    "start_time": "2023-06-18T13:40:57.445Z"
   },
   {
    "duration": 9,
    "start_time": "2023-06-18T13:41:14.623Z"
   },
   {
    "duration": 10,
    "start_time": "2023-06-18T13:43:02.854Z"
   },
   {
    "duration": 4,
    "start_time": "2023-06-18T13:43:52.179Z"
   },
   {
    "duration": 11,
    "start_time": "2023-06-18T13:43:56.837Z"
   },
   {
    "duration": 4,
    "start_time": "2023-06-18T13:44:02.688Z"
   },
   {
    "duration": 4,
    "start_time": "2023-06-18T13:44:03.701Z"
   },
   {
    "duration": 670,
    "start_time": "2023-06-18T13:44:05.293Z"
   },
   {
    "duration": 8,
    "start_time": "2023-06-18T13:44:06.203Z"
   },
   {
    "duration": 21,
    "start_time": "2023-06-18T13:44:07.145Z"
   },
   {
    "duration": 13,
    "start_time": "2023-06-18T13:44:34.643Z"
   },
   {
    "duration": 3,
    "start_time": "2023-06-18T13:46:44.950Z"
   },
   {
    "duration": 17,
    "start_time": "2023-06-18T13:46:50.206Z"
   },
   {
    "duration": 3,
    "start_time": "2023-06-18T13:47:09.504Z"
   },
   {
    "duration": 3,
    "start_time": "2023-06-18T13:47:09.904Z"
   },
   {
    "duration": 656,
    "start_time": "2023-06-18T13:47:10.483Z"
   },
   {
    "duration": 19,
    "start_time": "2023-06-18T13:47:11.142Z"
   },
   {
    "duration": 26,
    "start_time": "2023-06-18T13:47:11.164Z"
   },
   {
    "duration": 5,
    "start_time": "2023-06-18T13:47:46.301Z"
   },
   {
    "duration": 3,
    "start_time": "2023-06-18T13:47:46.852Z"
   },
   {
    "duration": 662,
    "start_time": "2023-06-18T13:47:47.557Z"
   },
   {
    "duration": 10,
    "start_time": "2023-06-18T13:47:48.221Z"
   },
   {
    "duration": 4,
    "start_time": "2023-06-18T13:47:48.345Z"
   },
   {
    "duration": 6,
    "start_time": "2023-06-18T13:48:10.900Z"
   },
   {
    "duration": 6,
    "start_time": "2023-06-18T13:49:30.182Z"
   },
   {
    "duration": 5,
    "start_time": "2023-06-18T13:49:35.410Z"
   },
   {
    "duration": 12,
    "start_time": "2023-06-18T13:54:24.970Z"
   },
   {
    "duration": 11,
    "start_time": "2023-06-18T13:56:18.458Z"
   },
   {
    "duration": 9,
    "start_time": "2023-06-18T13:56:38.546Z"
   },
   {
    "duration": 21,
    "start_time": "2023-06-18T13:58:54.132Z"
   },
   {
    "duration": 14,
    "start_time": "2023-06-18T13:59:36.953Z"
   },
   {
    "duration": 10,
    "start_time": "2023-06-18T13:59:49.701Z"
   },
   {
    "duration": 69,
    "start_time": "2023-06-18T14:22:20.995Z"
   },
   {
    "duration": 10,
    "start_time": "2023-06-18T14:22:26.685Z"
   },
   {
    "duration": 5,
    "start_time": "2023-06-18T14:23:12.257Z"
   },
   {
    "duration": 13,
    "start_time": "2023-06-18T14:24:34.007Z"
   },
   {
    "duration": 6,
    "start_time": "2023-06-18T14:25:15.200Z"
   },
   {
    "duration": 4,
    "start_time": "2023-06-18T14:25:30.489Z"
   },
   {
    "duration": 4,
    "start_time": "2023-06-18T14:25:36.394Z"
   },
   {
    "duration": 4,
    "start_time": "2023-06-18T14:25:52.792Z"
   },
   {
    "duration": 16,
    "start_time": "2023-06-18T14:25:58.543Z"
   },
   {
    "duration": 5,
    "start_time": "2023-06-18T14:26:08.397Z"
   },
   {
    "duration": 9,
    "start_time": "2023-06-18T14:26:41.934Z"
   },
   {
    "duration": 5,
    "start_time": "2023-06-18T14:27:31.524Z"
   },
   {
    "duration": 10,
    "start_time": "2023-06-18T14:29:24.660Z"
   },
   {
    "duration": 6,
    "start_time": "2023-06-18T14:29:28.446Z"
   },
   {
    "duration": 4,
    "start_time": "2023-06-18T14:29:34.437Z"
   },
   {
    "duration": 4,
    "start_time": "2023-06-18T14:32:05.998Z"
   },
   {
    "duration": 4,
    "start_time": "2023-06-18T14:32:11.103Z"
   },
   {
    "duration": 13,
    "start_time": "2023-06-18T14:33:28.765Z"
   },
   {
    "duration": 63,
    "start_time": "2023-06-18T14:35:15.958Z"
   },
   {
    "duration": 63,
    "start_time": "2023-06-18T14:35:31.394Z"
   },
   {
    "duration": 3,
    "start_time": "2023-06-18T14:35:45.152Z"
   },
   {
    "duration": 11,
    "start_time": "2023-06-18T14:35:58.612Z"
   },
   {
    "duration": 3,
    "start_time": "2023-06-18T14:36:43.946Z"
   },
   {
    "duration": 5,
    "start_time": "2023-06-18T14:37:25.991Z"
   },
   {
    "duration": 67,
    "start_time": "2023-06-18T14:40:07.232Z"
   },
   {
    "duration": 10,
    "start_time": "2023-06-18T14:40:50.007Z"
   },
   {
    "duration": 4,
    "start_time": "2023-06-18T14:42:05.079Z"
   },
   {
    "duration": 5,
    "start_time": "2023-06-18T14:49:21.984Z"
   },
   {
    "duration": 12,
    "start_time": "2023-06-18T14:50:14.889Z"
   },
   {
    "duration": 5,
    "start_time": "2023-06-18T14:50:27.082Z"
   },
   {
    "duration": 9,
    "start_time": "2023-06-18T14:51:34.932Z"
   },
   {
    "duration": 4,
    "start_time": "2023-06-18T14:52:55.639Z"
   },
   {
    "duration": 3,
    "start_time": "2023-06-18T14:52:56.159Z"
   },
   {
    "duration": 712,
    "start_time": "2023-06-18T14:52:57.280Z"
   },
   {
    "duration": 22,
    "start_time": "2023-06-18T14:56:32.008Z"
   },
   {
    "duration": 10,
    "start_time": "2023-06-18T14:56:49.856Z"
   },
   {
    "duration": 6,
    "start_time": "2023-06-18T14:56:58.703Z"
   },
   {
    "duration": 3,
    "start_time": "2023-06-18T15:04:03.246Z"
   },
   {
    "duration": 5,
    "start_time": "2023-06-18T15:04:11.824Z"
   },
   {
    "duration": 4,
    "start_time": "2023-06-18T15:05:14.703Z"
   },
   {
    "duration": 5,
    "start_time": "2023-06-18T15:05:20.873Z"
   },
   {
    "duration": 4,
    "start_time": "2023-06-18T15:05:32.299Z"
   },
   {
    "duration": 3,
    "start_time": "2023-06-18T15:05:32.799Z"
   },
   {
    "duration": 660,
    "start_time": "2023-06-18T15:05:33.739Z"
   },
   {
    "duration": 7,
    "start_time": "2023-06-18T15:05:34.719Z"
   },
   {
    "duration": 6,
    "start_time": "2023-06-18T15:05:35.770Z"
   },
   {
    "duration": 5,
    "start_time": "2023-06-18T15:05:36.326Z"
   },
   {
    "duration": 5,
    "start_time": "2023-06-18T15:06:22.766Z"
   },
   {
    "duration": 5,
    "start_time": "2023-06-18T15:06:35.191Z"
   },
   {
    "duration": 5,
    "start_time": "2023-06-18T15:07:40.202Z"
   },
   {
    "duration": 6,
    "start_time": "2023-06-18T15:07:51.799Z"
   },
   {
    "duration": 15,
    "start_time": "2023-06-18T15:08:53.309Z"
   },
   {
    "duration": 3,
    "start_time": "2023-06-18T15:09:22.895Z"
   },
   {
    "duration": 3,
    "start_time": "2023-06-18T15:09:23.320Z"
   },
   {
    "duration": 2128,
    "start_time": "2023-06-18T15:09:53.391Z"
   },
   {
    "duration": 2021,
    "start_time": "2023-06-18T15:10:04.977Z"
   },
   {
    "duration": 12,
    "start_time": "2023-06-18T15:10:45.183Z"
   },
   {
    "duration": 7,
    "start_time": "2023-06-18T15:11:13.398Z"
   },
   {
    "duration": 10,
    "start_time": "2023-06-18T15:11:40.603Z"
   },
   {
    "duration": 4,
    "start_time": "2023-06-18T15:12:08.495Z"
   },
   {
    "duration": 6,
    "start_time": "2023-06-18T15:12:09.034Z"
   },
   {
    "duration": 2327,
    "start_time": "2023-06-18T15:12:10.238Z"
   },
   {
    "duration": 10,
    "start_time": "2023-06-18T15:12:15.992Z"
   },
   {
    "duration": 7,
    "start_time": "2023-06-18T15:12:19.916Z"
   },
   {
    "duration": 9,
    "start_time": "2023-06-18T15:13:37.484Z"
   },
   {
    "duration": 2261,
    "start_time": "2023-06-18T15:13:47.092Z"
   },
   {
    "duration": 7,
    "start_time": "2023-06-18T15:14:06.192Z"
   },
   {
    "duration": 7,
    "start_time": "2023-06-18T15:25:49.692Z"
   },
   {
    "duration": 21,
    "start_time": "2023-06-18T15:26:54.319Z"
   },
   {
    "duration": 9,
    "start_time": "2023-06-18T15:27:11.832Z"
   },
   {
    "duration": 7,
    "start_time": "2023-06-18T15:29:59.288Z"
   },
   {
    "duration": 1734,
    "start_time": "2023-06-18T15:44:57.891Z"
   },
   {
    "duration": 3,
    "start_time": "2023-06-18T15:44:59.627Z"
   },
   {
    "duration": 2128,
    "start_time": "2023-06-18T15:44:59.814Z"
   },
   {
    "duration": 120,
    "start_time": "2023-06-18T15:45:04.298Z"
   },
   {
    "duration": 5,
    "start_time": "2023-06-18T15:48:05.080Z"
   },
   {
    "duration": 5,
    "start_time": "2023-06-18T15:48:06.630Z"
   },
   {
    "duration": 2143,
    "start_time": "2023-06-18T15:48:07.286Z"
   },
   {
    "duration": 28,
    "start_time": "2023-06-18T15:48:09.431Z"
   },
   {
    "duration": 10,
    "start_time": "2023-06-18T15:48:11.535Z"
   },
   {
    "duration": 3,
    "start_time": "2023-06-18T15:49:13.109Z"
   },
   {
    "duration": 920,
    "start_time": "2023-06-18T15:49:31.903Z"
   },
   {
    "duration": 3,
    "start_time": "2023-06-18T15:49:33.719Z"
   },
   {
    "duration": 2006,
    "start_time": "2023-06-18T15:49:34.597Z"
   },
   {
    "duration": 29,
    "start_time": "2023-06-18T15:49:36.605Z"
   },
   {
    "duration": 225,
    "start_time": "2023-06-18T15:50:46.150Z"
   },
   {
    "duration": 3,
    "start_time": "2023-06-18T15:50:56.370Z"
   },
   {
    "duration": 2163,
    "start_time": "2023-06-18T15:50:57.179Z"
   },
   {
    "duration": 20,
    "start_time": "2023-06-18T15:50:59.345Z"
   },
   {
    "duration": 8,
    "start_time": "2023-06-18T15:51:00.943Z"
   },
   {
    "duration": 22,
    "start_time": "2023-06-18T15:51:02.895Z"
   },
   {
    "duration": 1638,
    "start_time": "2023-06-18T15:52:11.894Z"
   },
   {
    "duration": 4,
    "start_time": "2023-06-18T15:52:14.332Z"
   },
   {
    "duration": 2161,
    "start_time": "2023-06-18T15:52:15.534Z"
   },
   {
    "duration": 142,
    "start_time": "2023-06-18T15:52:17.698Z"
   },
   {
    "duration": 0,
    "start_time": "2023-06-18T15:52:17.842Z"
   },
   {
    "duration": 5,
    "start_time": "2023-06-18T15:52:39.735Z"
   },
   {
    "duration": 3,
    "start_time": "2023-06-18T15:52:41.118Z"
   },
   {
    "duration": 2125,
    "start_time": "2023-06-18T15:52:41.918Z"
   },
   {
    "duration": 20,
    "start_time": "2023-06-18T15:52:44.045Z"
   },
   {
    "duration": 6,
    "start_time": "2023-06-18T15:52:46.514Z"
   },
   {
    "duration": 7,
    "start_time": "2023-06-18T15:53:55.130Z"
   },
   {
    "duration": 8,
    "start_time": "2023-06-18T15:57:12.943Z"
   },
   {
    "duration": 9,
    "start_time": "2023-06-18T15:57:18.113Z"
   },
   {
    "duration": 22,
    "start_time": "2023-06-18T15:57:22.151Z"
   },
   {
    "duration": 8,
    "start_time": "2023-06-18T15:57:25.879Z"
   },
   {
    "duration": 18,
    "start_time": "2023-06-18T15:58:57.017Z"
   },
   {
    "duration": 8,
    "start_time": "2023-06-18T15:59:11.674Z"
   },
   {
    "duration": 5,
    "start_time": "2023-06-18T15:59:15.312Z"
   },
   {
    "duration": 5,
    "start_time": "2023-06-18T15:59:40.647Z"
   },
   {
    "duration": 8,
    "start_time": "2023-06-18T15:59:45.653Z"
   },
   {
    "duration": 11,
    "start_time": "2023-06-18T16:00:11.727Z"
   },
   {
    "duration": 22,
    "start_time": "2023-06-18T16:00:28.251Z"
   },
   {
    "duration": 13,
    "start_time": "2023-06-18T16:01:11.675Z"
   },
   {
    "duration": 10,
    "start_time": "2023-06-18T16:01:45.977Z"
   },
   {
    "duration": 19,
    "start_time": "2023-06-18T16:02:00.848Z"
   },
   {
    "duration": 11,
    "start_time": "2023-06-18T16:02:05.801Z"
   },
   {
    "duration": 25,
    "start_time": "2023-06-18T16:06:45.551Z"
   },
   {
    "duration": 11,
    "start_time": "2023-06-18T16:09:38.728Z"
   },
   {
    "duration": 13,
    "start_time": "2023-06-18T16:09:50.239Z"
   },
   {
    "duration": 12,
    "start_time": "2023-06-18T16:10:28.032Z"
   },
   {
    "duration": 11,
    "start_time": "2023-06-18T16:10:59.915Z"
   },
   {
    "duration": 9,
    "start_time": "2023-06-18T16:11:35.489Z"
   },
   {
    "duration": 34,
    "start_time": "2023-06-18T16:11:36.841Z"
   },
   {
    "duration": 24,
    "start_time": "2023-06-18T16:11:50.394Z"
   },
   {
    "duration": 12,
    "start_time": "2023-06-18T16:11:58.795Z"
   },
   {
    "duration": 7,
    "start_time": "2023-06-18T16:12:04.296Z"
   },
   {
    "duration": 6,
    "start_time": "2023-06-18T16:13:09.627Z"
   },
   {
    "duration": 13,
    "start_time": "2023-06-18T16:13:19.127Z"
   },
   {
    "duration": 6,
    "start_time": "2023-06-18T16:13:42.984Z"
   },
   {
    "duration": 1651,
    "start_time": "2023-06-18T16:14:15.580Z"
   },
   {
    "duration": 4,
    "start_time": "2023-06-18T16:14:17.234Z"
   },
   {
    "duration": 2141,
    "start_time": "2023-06-18T16:14:17.696Z"
   },
   {
    "duration": 152,
    "start_time": "2023-06-18T16:14:19.839Z"
   },
   {
    "duration": 11,
    "start_time": "2023-06-18T16:15:26.687Z"
   },
   {
    "duration": 18,
    "start_time": "2023-06-18T16:15:30.040Z"
   },
   {
    "duration": 6,
    "start_time": "2023-06-18T16:16:08.738Z"
   },
   {
    "duration": 3,
    "start_time": "2023-06-18T16:16:09.768Z"
   },
   {
    "duration": 2054,
    "start_time": "2023-06-18T16:16:10.390Z"
   },
   {
    "duration": 21,
    "start_time": "2023-06-18T16:16:12.450Z"
   },
   {
    "duration": 2118,
    "start_time": "2023-06-18T16:18:17.608Z"
   },
   {
    "duration": 16,
    "start_time": "2023-06-18T16:18:24.912Z"
   },
   {
    "duration": 14,
    "start_time": "2023-06-18T16:18:56.738Z"
   },
   {
    "duration": 13,
    "start_time": "2023-06-18T16:19:13.898Z"
   },
   {
    "duration": 6,
    "start_time": "2023-06-18T16:20:39.727Z"
   },
   {
    "duration": 6,
    "start_time": "2023-06-18T16:21:21.816Z"
   },
   {
    "duration": 14,
    "start_time": "2023-06-18T16:21:28.353Z"
   },
   {
    "duration": 5,
    "start_time": "2023-06-18T16:22:10.337Z"
   },
   {
    "duration": 11,
    "start_time": "2023-06-18T16:22:12.935Z"
   },
   {
    "duration": 1725,
    "start_time": "2023-06-18T16:22:38.057Z"
   },
   {
    "duration": 3,
    "start_time": "2023-06-18T16:22:39.784Z"
   },
   {
    "duration": 2077,
    "start_time": "2023-06-18T16:22:40.952Z"
   },
   {
    "duration": 9,
    "start_time": "2023-06-18T16:22:45.173Z"
   },
   {
    "duration": 6,
    "start_time": "2023-06-18T16:22:46.105Z"
   },
   {
    "duration": 5,
    "start_time": "2023-06-18T16:22:47.790Z"
   },
   {
    "duration": 7,
    "start_time": "2023-06-18T16:23:10.231Z"
   },
   {
    "duration": 7,
    "start_time": "2023-06-18T16:24:41.386Z"
   },
   {
    "duration": 3,
    "start_time": "2023-06-18T16:25:03.511Z"
   },
   {
    "duration": 12,
    "start_time": "2023-06-18T16:25:18.286Z"
   },
   {
    "duration": 13,
    "start_time": "2023-06-18T16:25:55.425Z"
   },
   {
    "duration": 10,
    "start_time": "2023-06-18T16:26:13.703Z"
   },
   {
    "duration": 9,
    "start_time": "2023-06-18T16:28:21.778Z"
   },
   {
    "duration": 9,
    "start_time": "2023-06-18T16:28:28.792Z"
   },
   {
    "duration": 11,
    "start_time": "2023-06-18T16:28:33.781Z"
   },
   {
    "duration": 13,
    "start_time": "2023-06-18T16:29:29.201Z"
   },
   {
    "duration": 11,
    "start_time": "2023-06-18T16:30:04.600Z"
   },
   {
    "duration": 14,
    "start_time": "2023-06-18T16:30:06.985Z"
   },
   {
    "duration": 1756,
    "start_time": "2023-06-18T16:33:13.276Z"
   },
   {
    "duration": 5,
    "start_time": "2023-06-18T16:33:16.389Z"
   },
   {
    "duration": 2181,
    "start_time": "2023-06-18T16:33:22.856Z"
   },
   {
    "duration": 19,
    "start_time": "2023-06-18T16:33:26.188Z"
   }
  ],
  "kernelspec": {
   "display_name": "Python 3 (ipykernel)",
   "language": "python",
   "name": "python3"
  },
  "language_info": {
   "codemirror_mode": {
    "name": "ipython",
    "version": 3
   },
   "file_extension": ".py",
   "mimetype": "text/x-python",
   "name": "python",
   "nbconvert_exporter": "python",
   "pygments_lexer": "ipython3",
   "version": "3.9.5"
  },
  "toc": {
   "base_numbering": 1,
   "nav_menu": {},
   "number_sections": true,
   "sideBar": true,
   "skip_h1_title": true,
   "title_cell": "Table of Contents",
   "title_sidebar": "Contents",
   "toc_cell": false,
   "toc_position": {},
   "toc_section_display": true,
   "toc_window_display": false
  }
 },
 "nbformat": 4,
 "nbformat_minor": 2
}
